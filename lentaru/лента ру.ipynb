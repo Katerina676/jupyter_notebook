{
 "cells": [
  {
   "cell_type": "code",
   "execution_count": 1,
   "metadata": {},
   "outputs": [],
   "source": [
    "import numpy as np\n",
    "import pandas as pd\n",
    "import matplotlib.pyplot as plt\n",
    "from sklearn.model_selection import train_test_split\n",
    "from sklearn.feature_extraction.text import TfidfVectorizer\n",
    "from sklearn.linear_model import LogisticRegression\n",
    "from sklearn.metrics import accuracy_score,confusion_matrix\n",
    "from sklearn.model_selection import cross_validate\n",
    "from sklearn import metrics,ensemble\n",
    "from sklearn.model_selection import cross_val_score"
   ]
  },
  {
   "cell_type": "code",
   "execution_count": 2,
   "metadata": {
    "scrolled": true
   },
   "outputs": [
    {
     "name": "stderr",
     "output_type": "stream",
     "text": [
      "D:\\aa\\lib\\site-packages\\IPython\\core\\interactiveshell.py:3063: DtypeWarning: Columns (3) have mixed types.Specify dtype option on import or set low_memory=False.\n",
      "  interactivity=interactivity, compiler=compiler, result=result)\n"
     ]
    },
    {
     "name": "stdout",
     "output_type": "stream",
     "text": [
      "800975\n"
     ]
    },
    {
     "data": {
      "text/html": [
       "<div>\n",
       "<style scoped>\n",
       "    .dataframe tbody tr th:only-of-type {\n",
       "        vertical-align: middle;\n",
       "    }\n",
       "\n",
       "    .dataframe tbody tr th {\n",
       "        vertical-align: top;\n",
       "    }\n",
       "\n",
       "    .dataframe thead th {\n",
       "        text-align: right;\n",
       "    }\n",
       "</style>\n",
       "<table border=\"1\" class=\"dataframe\">\n",
       "  <thead>\n",
       "    <tr style=\"text-align: right;\">\n",
       "      <th></th>\n",
       "      <th>url</th>\n",
       "      <th>title</th>\n",
       "      <th>text</th>\n",
       "      <th>topic</th>\n",
       "      <th>tags</th>\n",
       "      <th>date</th>\n",
       "    </tr>\n",
       "  </thead>\n",
       "  <tbody>\n",
       "    <tr>\n",
       "      <th>0</th>\n",
       "      <td>https://lenta.ru/news/1914/09/16/hungarnn/</td>\n",
       "      <td>1914. Русские войска вступили в пределы Венгрии</td>\n",
       "      <td>Бои у Сопоцкина и Друскеник закончились отступ...</td>\n",
       "      <td>Библиотека</td>\n",
       "      <td>Первая мировая</td>\n",
       "      <td>1914/09/16</td>\n",
       "    </tr>\n",
       "    <tr>\n",
       "      <th>1</th>\n",
       "      <td>https://lenta.ru/news/1914/09/16/lermontov/</td>\n",
       "      <td>1914. Празднование столетия М.Ю. Лермонтова от...</td>\n",
       "      <td>Министерство народного просвещения, в виду про...</td>\n",
       "      <td>Библиотека</td>\n",
       "      <td>Первая мировая</td>\n",
       "      <td>1914/09/16</td>\n",
       "    </tr>\n",
       "    <tr>\n",
       "      <th>2</th>\n",
       "      <td>https://lenta.ru/news/1914/09/17/nesteroff/</td>\n",
       "      <td>1914. Das ist Nesteroff!</td>\n",
       "      <td>Штабс-капитан П. Н. Нестеров на днях, увидев в...</td>\n",
       "      <td>Библиотека</td>\n",
       "      <td>Первая мировая</td>\n",
       "      <td>1914/09/17</td>\n",
       "    </tr>\n",
       "    <tr>\n",
       "      <th>3</th>\n",
       "      <td>https://lenta.ru/news/1914/09/17/bulldogn/</td>\n",
       "      <td>1914. Бульдог-гонец под Льежем</td>\n",
       "      <td>Фотограф-корреспондент Daily Mirror рассказыва...</td>\n",
       "      <td>Библиотека</td>\n",
       "      <td>Первая мировая</td>\n",
       "      <td>1914/09/17</td>\n",
       "    </tr>\n",
       "    <tr>\n",
       "      <th>4</th>\n",
       "      <td>https://lenta.ru/news/1914/09/18/zver/</td>\n",
       "      <td>1914. Под Люблином пойман швабский зверь</td>\n",
       "      <td>Лица, приехавшие в Варшаву из Люблина, передаю...</td>\n",
       "      <td>Библиотека</td>\n",
       "      <td>Первая мировая</td>\n",
       "      <td>1914/09/18</td>\n",
       "    </tr>\n",
       "  </tbody>\n",
       "</table>\n",
       "</div>"
      ],
      "text/plain": [
       "                                           url  \\\n",
       "0   https://lenta.ru/news/1914/09/16/hungarnn/   \n",
       "1  https://lenta.ru/news/1914/09/16/lermontov/   \n",
       "2  https://lenta.ru/news/1914/09/17/nesteroff/   \n",
       "3   https://lenta.ru/news/1914/09/17/bulldogn/   \n",
       "4       https://lenta.ru/news/1914/09/18/zver/   \n",
       "\n",
       "                                               title  \\\n",
       "0  1914. Русские войска вступили в пределы Венгрии     \n",
       "1  1914. Празднование столетия М.Ю. Лермонтова от...   \n",
       "2                           1914. Das ist Nesteroff!   \n",
       "3                    1914. Бульдог-гонец под Льежем    \n",
       "4           1914. Под Люблином пойман швабский зверь   \n",
       "\n",
       "                                                text       topic  \\\n",
       "0  Бои у Сопоцкина и Друскеник закончились отступ...  Библиотека   \n",
       "1  Министерство народного просвещения, в виду про...  Библиотека   \n",
       "2  Штабс-капитан П. Н. Нестеров на днях, увидев в...  Библиотека   \n",
       "3  Фотограф-корреспондент Daily Mirror рассказыва...  Библиотека   \n",
       "4  Лица, приехавшие в Варшаву из Люблина, передаю...  Библиотека   \n",
       "\n",
       "             tags        date  \n",
       "0  Первая мировая  1914/09/16  \n",
       "1  Первая мировая  1914/09/16  \n",
       "2  Первая мировая  1914/09/17  \n",
       "3  Первая мировая  1914/09/17  \n",
       "4  Первая мировая  1914/09/18  "
      ]
     },
     "execution_count": 2,
     "metadata": {},
     "output_type": "execute_result"
    }
   ],
   "source": [
    "data = pd.read_csv(\"Downloads/lenta-ru-news.csv\")\n",
    "print(len(data))\n",
    "data.head(5)"
   ]
  },
  {
   "cell_type": "code",
   "execution_count": 3,
   "metadata": {},
   "outputs": [
    {
     "name": "stdout",
     "output_type": "stream",
     "text": [
      "<class 'pandas.core.frame.DataFrame'>\n",
      "RangeIndex: 800975 entries, 0 to 800974\n",
      "Data columns (total 6 columns):\n",
      " #   Column  Non-Null Count   Dtype \n",
      "---  ------  --------------   ----- \n",
      " 0   url     800975 non-null  object\n",
      " 1   title   800975 non-null  object\n",
      " 2   text    800970 non-null  object\n",
      " 3   topic   738973 non-null  object\n",
      " 4   tags    773756 non-null  object\n",
      " 5   date    800975 non-null  object\n",
      "dtypes: object(6)\n",
      "memory usage: 36.7+ MB\n"
     ]
    }
   ],
   "source": [
    "data.info()"
   ]
  },
  {
   "cell_type": "code",
   "execution_count": null,
   "metadata": {},
   "outputs": [],
   "source": []
  },
  {
   "cell_type": "code",
   "execution_count": null,
   "metadata": {},
   "outputs": [],
   "source": []
  },
  {
   "cell_type": "code",
   "execution_count": 4,
   "metadata": {},
   "outputs": [],
   "source": [
    "start = 680000"
   ]
  },
  {
   "cell_type": "code",
   "execution_count": 5,
   "metadata": {},
   "outputs": [],
   "source": [
    "end = 730000"
   ]
  },
  {
   "cell_type": "code",
   "execution_count": 6,
   "metadata": {},
   "outputs": [],
   "source": [
    "data1 = data[start:end]"
   ]
  },
  {
   "cell_type": "code",
   "execution_count": 7,
   "metadata": {},
   "outputs": [
    {
     "data": {
      "text/plain": [
       "50000"
      ]
     },
     "execution_count": 7,
     "metadata": {},
     "output_type": "execute_result"
    }
   ],
   "source": [
    "len(data1)"
   ]
  },
  {
   "cell_type": "code",
   "execution_count": 8,
   "metadata": {},
   "outputs": [
    {
     "data": {
      "text/html": [
       "<div>\n",
       "<style scoped>\n",
       "    .dataframe tbody tr th:only-of-type {\n",
       "        vertical-align: middle;\n",
       "    }\n",
       "\n",
       "    .dataframe tbody tr th {\n",
       "        vertical-align: top;\n",
       "    }\n",
       "\n",
       "    .dataframe thead th {\n",
       "        text-align: right;\n",
       "    }\n",
       "</style>\n",
       "<table border=\"1\" class=\"dataframe\">\n",
       "  <thead>\n",
       "    <tr style=\"text-align: right;\">\n",
       "      <th></th>\n",
       "      <th>url</th>\n",
       "      <th>title</th>\n",
       "      <th>text</th>\n",
       "      <th>topic</th>\n",
       "      <th>tags</th>\n",
       "      <th>date</th>\n",
       "    </tr>\n",
       "  </thead>\n",
       "  <tbody>\n",
       "    <tr>\n",
       "      <th>680000</th>\n",
       "      <td>https://lenta.ru/news/2017/08/30/micex2000/</td>\n",
       "      <td>Индекс ММВБ перевалил за 2000 пунктов впервые ...</td>\n",
       "      <td>В ходе торгов на Московской бирже индекс ММВБ ...</td>\n",
       "      <td>Экономика</td>\n",
       "      <td>Рынки</td>\n",
       "      <td>2017/08/30</td>\n",
       "    </tr>\n",
       "    <tr>\n",
       "      <th>680001</th>\n",
       "      <td>https://lenta.ru/news/2017/08/30/naked_news/</td>\n",
       "      <td>Голые ведущие устроили соревнование по метанию...</td>\n",
       "      <td>Полностью обнаженные ведущие программы Naked N...</td>\n",
       "      <td>Интернет и СМИ</td>\n",
       "      <td>ТВ и радио</td>\n",
       "      <td>2017/08/30</td>\n",
       "    </tr>\n",
       "    <tr>\n",
       "      <th>680002</th>\n",
       "      <td>https://lenta.ru/news/2017/08/30/gorkypark/</td>\n",
       "      <td>Следствие попросит арестовать подозреваемого в...</td>\n",
       "      <td>Следствие попросит суд арестовать Корнея Макар...</td>\n",
       "      <td>Силовые структуры</td>\n",
       "      <td>Следствие и суд</td>\n",
       "      <td>2017/08/30</td>\n",
       "    </tr>\n",
       "    <tr>\n",
       "      <th>680003</th>\n",
       "      <td>https://lenta.ru/news/2017/08/30/pets/</td>\n",
       "      <td>Домашних питомцев предложили мыть натуральными...</td>\n",
       "      <td>Косметическая марка Organic Shop выпустила пер...</td>\n",
       "      <td>Ценности</td>\n",
       "      <td>Внешний вид</td>\n",
       "      <td>2017/08/30</td>\n",
       "    </tr>\n",
       "    <tr>\n",
       "      <th>680004</th>\n",
       "      <td>https://lenta.ru/news/2017/08/30/woman_shooting/</td>\n",
       "      <td>Неизвестный обстрелял россиянку на Пхукете</td>\n",
       "      <td>Россиянка получила огнестрельные ранения во вр...</td>\n",
       "      <td>Путешествия</td>\n",
       "      <td>Происшествия</td>\n",
       "      <td>2017/08/30</td>\n",
       "    </tr>\n",
       "    <tr>\n",
       "      <th>...</th>\n",
       "      <td>...</td>\n",
       "      <td>...</td>\n",
       "      <td>...</td>\n",
       "      <td>...</td>\n",
       "      <td>...</td>\n",
       "      <td>...</td>\n",
       "    </tr>\n",
       "    <tr>\n",
       "      <th>680095</th>\n",
       "      <td>https://lenta.ru/news/2017/08/30/arctic/</td>\n",
       "      <td>Новый российский вездеход для Арктики запустят...</td>\n",
       "      <td>К концу 2017 года начнется мелкосерийное произ...</td>\n",
       "      <td>69-я параллель</td>\n",
       "      <td>Достижения</td>\n",
       "      <td>2017/08/30</td>\n",
       "    </tr>\n",
       "    <tr>\n",
       "      <th>680096</th>\n",
       "      <td>https://lenta.ru/news/2017/08/30/drop/</td>\n",
       "      <td>Supreme научит поклонников марки правильно пит...</td>\n",
       "      <td>Американская марка Supreme показала подборку ф...</td>\n",
       "      <td>Ценности</td>\n",
       "      <td>Инструменты</td>\n",
       "      <td>2017/08/30</td>\n",
       "    </tr>\n",
       "    <tr>\n",
       "      <th>680097</th>\n",
       "      <td>https://lenta.ru/news/2017/08/30/darwin/</td>\n",
       "      <td>Опровергнута эволюционная гипотеза Дарвина</td>\n",
       "      <td>Австралийские ученые опровергли представление ...</td>\n",
       "      <td>Наука и техника</td>\n",
       "      <td>Наука</td>\n",
       "      <td>2017/08/30</td>\n",
       "    </tr>\n",
       "    <tr>\n",
       "      <th>680098</th>\n",
       "      <td>https://lenta.ru/news/2017/08/30/ukrgas/</td>\n",
       "      <td>Порошенко собрался обеспечить Украину собствен...</td>\n",
       "      <td>Украине необходимо запустить собственное произ...</td>\n",
       "      <td>Экономика</td>\n",
       "      <td>Госэкономика</td>\n",
       "      <td>2017/08/30</td>\n",
       "    </tr>\n",
       "    <tr>\n",
       "      <th>680099</th>\n",
       "      <td>https://lenta.ru/news/2017/08/30/medvezhonok/</td>\n",
       "      <td>Медвежонка засняли на пункте пропуска на грани...</td>\n",
       "      <td>На российско-латвийской границе в пункте пропу...</td>\n",
       "      <td>Бывший СССР</td>\n",
       "      <td>Прибалтика</td>\n",
       "      <td>2017/08/30</td>\n",
       "    </tr>\n",
       "  </tbody>\n",
       "</table>\n",
       "<p>100 rows × 6 columns</p>\n",
       "</div>"
      ],
      "text/plain": [
       "                                                     url  \\\n",
       "680000       https://lenta.ru/news/2017/08/30/micex2000/   \n",
       "680001      https://lenta.ru/news/2017/08/30/naked_news/   \n",
       "680002       https://lenta.ru/news/2017/08/30/gorkypark/   \n",
       "680003            https://lenta.ru/news/2017/08/30/pets/   \n",
       "680004  https://lenta.ru/news/2017/08/30/woman_shooting/   \n",
       "...                                                  ...   \n",
       "680095          https://lenta.ru/news/2017/08/30/arctic/   \n",
       "680096            https://lenta.ru/news/2017/08/30/drop/   \n",
       "680097          https://lenta.ru/news/2017/08/30/darwin/   \n",
       "680098          https://lenta.ru/news/2017/08/30/ukrgas/   \n",
       "680099     https://lenta.ru/news/2017/08/30/medvezhonok/   \n",
       "\n",
       "                                                    title  \\\n",
       "680000  Индекс ММВБ перевалил за 2000 пунктов впервые ...   \n",
       "680001  Голые ведущие устроили соревнование по метанию...   \n",
       "680002  Следствие попросит арестовать подозреваемого в...   \n",
       "680003  Домашних питомцев предложили мыть натуральными...   \n",
       "680004         Неизвестный обстрелял россиянку на Пхукете   \n",
       "...                                                   ...   \n",
       "680095  Новый российский вездеход для Арктики запустят...   \n",
       "680096  Supreme научит поклонников марки правильно пит...   \n",
       "680097         Опровергнута эволюционная гипотеза Дарвина   \n",
       "680098  Порошенко собрался обеспечить Украину собствен...   \n",
       "680099  Медвежонка засняли на пункте пропуска на грани...   \n",
       "\n",
       "                                                     text              topic  \\\n",
       "680000  В ходе торгов на Московской бирже индекс ММВБ ...          Экономика   \n",
       "680001  Полностью обнаженные ведущие программы Naked N...     Интернет и СМИ   \n",
       "680002  Следствие попросит суд арестовать Корнея Макар...  Силовые структуры   \n",
       "680003  Косметическая марка Organic Shop выпустила пер...           Ценности   \n",
       "680004  Россиянка получила огнестрельные ранения во вр...        Путешествия   \n",
       "...                                                   ...                ...   \n",
       "680095  К концу 2017 года начнется мелкосерийное произ...     69-я параллель   \n",
       "680096  Американская марка Supreme показала подборку ф...           Ценности   \n",
       "680097  Австралийские ученые опровергли представление ...    Наука и техника   \n",
       "680098  Украине необходимо запустить собственное произ...          Экономика   \n",
       "680099  На российско-латвийской границе в пункте пропу...        Бывший СССР   \n",
       "\n",
       "                   tags        date  \n",
       "680000            Рынки  2017/08/30  \n",
       "680001       ТВ и радио  2017/08/30  \n",
       "680002  Следствие и суд  2017/08/30  \n",
       "680003      Внешний вид  2017/08/30  \n",
       "680004     Происшествия  2017/08/30  \n",
       "...                 ...         ...  \n",
       "680095       Достижения  2017/08/30  \n",
       "680096      Инструменты  2017/08/30  \n",
       "680097            Наука  2017/08/30  \n",
       "680098     Госэкономика  2017/08/30  \n",
       "680099       Прибалтика  2017/08/30  \n",
       "\n",
       "[100 rows x 6 columns]"
      ]
     },
     "execution_count": 8,
     "metadata": {},
     "output_type": "execute_result"
    }
   ],
   "source": [
    "data1.head(100)"
   ]
  },
  {
   "cell_type": "code",
   "execution_count": 9,
   "metadata": {
    "scrolled": true
   },
   "outputs": [
    {
     "name": "stdout",
     "output_type": "stream",
     "text": [
      "<class 'pandas.core.frame.DataFrame'>\n",
      "RangeIndex: 50000 entries, 680000 to 729999\n",
      "Data columns (total 6 columns):\n",
      " #   Column  Non-Null Count  Dtype \n",
      "---  ------  --------------  ----- \n",
      " 0   url     50000 non-null  object\n",
      " 1   title   50000 non-null  object\n",
      " 2   text    50000 non-null  object\n",
      " 3   topic   49991 non-null  object\n",
      " 4   tags    48923 non-null  object\n",
      " 5   date    50000 non-null  object\n",
      "dtypes: object(6)\n",
      "memory usage: 2.3+ MB\n"
     ]
    }
   ],
   "source": [
    "data1.info()"
   ]
  },
  {
   "cell_type": "code",
   "execution_count": 10,
   "metadata": {},
   "outputs": [
    {
     "data": {
      "text/plain": [
       "680000            Экономика\n",
       "680001       Интернет и СМИ\n",
       "680002    Силовые структуры\n",
       "680003             Ценности\n",
       "680004          Путешествия\n",
       "Name: topic, dtype: object"
      ]
     },
     "execution_count": 10,
     "metadata": {},
     "output_type": "execute_result"
    }
   ],
   "source": [
    "data1['topic'].head()"
   ]
  },
  {
   "cell_type": "code",
   "execution_count": 11,
   "metadata": {
    "scrolled": true
   },
   "outputs": [
    {
     "data": {
      "text/plain": [
       "url         0\n",
       "title       0\n",
       "text        0\n",
       "topic       9\n",
       "tags     1077\n",
       "date        0\n",
       "dtype: int64"
      ]
     },
     "execution_count": 11,
     "metadata": {},
     "output_type": "execute_result"
    }
   ],
   "source": [
    "data1.isnull().sum(axis=0)"
   ]
  },
  {
   "cell_type": "code",
   "execution_count": 14,
   "metadata": {},
   "outputs": [],
   "source": [
    "data1['topic'].fillna('Мир', inplace = True)"
   ]
  },
  {
   "cell_type": "code",
   "execution_count": 15,
   "metadata": {},
   "outputs": [
    {
     "name": "stdout",
     "output_type": "stream",
     "text": [
      "<class 'pandas.core.frame.DataFrame'>\n",
      "RangeIndex: 50000 entries, 680000 to 729999\n",
      "Data columns (total 6 columns):\n",
      " #   Column  Non-Null Count  Dtype \n",
      "---  ------  --------------  ----- \n",
      " 0   url     50000 non-null  object\n",
      " 1   title   50000 non-null  object\n",
      " 2   text    50000 non-null  object\n",
      " 3   topic   50000 non-null  object\n",
      " 4   tags    48923 non-null  object\n",
      " 5   date    50000 non-null  object\n",
      "dtypes: object(6)\n",
      "memory usage: 2.3+ MB\n"
     ]
    }
   ],
   "source": [
    "data1.info()"
   ]
  },
  {
   "cell_type": "code",
   "execution_count": 14,
   "metadata": {},
   "outputs": [
    {
     "data": {
      "text/html": [
       "<div>\n",
       "<style scoped>\n",
       "    .dataframe tbody tr th:only-of-type {\n",
       "        vertical-align: middle;\n",
       "    }\n",
       "\n",
       "    .dataframe tbody tr th {\n",
       "        vertical-align: top;\n",
       "    }\n",
       "\n",
       "    .dataframe thead th {\n",
       "        text-align: right;\n",
       "    }\n",
       "</style>\n",
       "<table border=\"1\" class=\"dataframe\">\n",
       "  <thead>\n",
       "    <tr style=\"text-align: right;\">\n",
       "      <th></th>\n",
       "      <th>url</th>\n",
       "      <th>title</th>\n",
       "      <th>text</th>\n",
       "      <th>topic</th>\n",
       "      <th>tags</th>\n",
       "      <th>date</th>\n",
       "    </tr>\n",
       "  </thead>\n",
       "  <tbody>\n",
       "    <tr>\n",
       "      <th>680000</th>\n",
       "      <td>https://lenta.ru/news/2017/08/30/micex2000/</td>\n",
       "      <td>Индекс ММВБ перевалил за 2000 пунктов впервые ...</td>\n",
       "      <td>В ходе торгов на Московской бирже индекс ММВБ ...</td>\n",
       "      <td>Экономика</td>\n",
       "      <td>Рынки</td>\n",
       "      <td>2017/08/30</td>\n",
       "    </tr>\n",
       "    <tr>\n",
       "      <th>680001</th>\n",
       "      <td>https://lenta.ru/news/2017/08/30/naked_news/</td>\n",
       "      <td>Голые ведущие устроили соревнование по метанию...</td>\n",
       "      <td>Полностью обнаженные ведущие программы Naked N...</td>\n",
       "      <td>Интернет и СМИ</td>\n",
       "      <td>ТВ и радио</td>\n",
       "      <td>2017/08/30</td>\n",
       "    </tr>\n",
       "    <tr>\n",
       "      <th>680002</th>\n",
       "      <td>https://lenta.ru/news/2017/08/30/gorkypark/</td>\n",
       "      <td>Следствие попросит арестовать подозреваемого в...</td>\n",
       "      <td>Следствие попросит суд арестовать Корнея Макар...</td>\n",
       "      <td>Силовые структуры</td>\n",
       "      <td>Следствие и суд</td>\n",
       "      <td>2017/08/30</td>\n",
       "    </tr>\n",
       "    <tr>\n",
       "      <th>680003</th>\n",
       "      <td>https://lenta.ru/news/2017/08/30/pets/</td>\n",
       "      <td>Домашних питомцев предложили мыть натуральными...</td>\n",
       "      <td>Косметическая марка Organic Shop выпустила пер...</td>\n",
       "      <td>Ценности</td>\n",
       "      <td>Внешний вид</td>\n",
       "      <td>2017/08/30</td>\n",
       "    </tr>\n",
       "    <tr>\n",
       "      <th>680004</th>\n",
       "      <td>https://lenta.ru/news/2017/08/30/woman_shooting/</td>\n",
       "      <td>Неизвестный обстрелял россиянку на Пхукете</td>\n",
       "      <td>Россиянка получила огнестрельные ранения во вр...</td>\n",
       "      <td>Путешествия</td>\n",
       "      <td>Происшествия</td>\n",
       "      <td>2017/08/30</td>\n",
       "    </tr>\n",
       "    <tr>\n",
       "      <th>...</th>\n",
       "      <td>...</td>\n",
       "      <td>...</td>\n",
       "      <td>...</td>\n",
       "      <td>...</td>\n",
       "      <td>...</td>\n",
       "      <td>...</td>\n",
       "    </tr>\n",
       "    <tr>\n",
       "      <th>680095</th>\n",
       "      <td>https://lenta.ru/news/2017/08/30/arctic/</td>\n",
       "      <td>Новый российский вездеход для Арктики запустят...</td>\n",
       "      <td>К концу 2017 года начнется мелкосерийное произ...</td>\n",
       "      <td>69-я параллель</td>\n",
       "      <td>Достижения</td>\n",
       "      <td>2017/08/30</td>\n",
       "    </tr>\n",
       "    <tr>\n",
       "      <th>680096</th>\n",
       "      <td>https://lenta.ru/news/2017/08/30/drop/</td>\n",
       "      <td>Supreme научит поклонников марки правильно пит...</td>\n",
       "      <td>Американская марка Supreme показала подборку ф...</td>\n",
       "      <td>Ценности</td>\n",
       "      <td>Инструменты</td>\n",
       "      <td>2017/08/30</td>\n",
       "    </tr>\n",
       "    <tr>\n",
       "      <th>680097</th>\n",
       "      <td>https://lenta.ru/news/2017/08/30/darwin/</td>\n",
       "      <td>Опровергнута эволюционная гипотеза Дарвина</td>\n",
       "      <td>Австралийские ученые опровергли представление ...</td>\n",
       "      <td>Наука и техника</td>\n",
       "      <td>Наука</td>\n",
       "      <td>2017/08/30</td>\n",
       "    </tr>\n",
       "    <tr>\n",
       "      <th>680098</th>\n",
       "      <td>https://lenta.ru/news/2017/08/30/ukrgas/</td>\n",
       "      <td>Порошенко собрался обеспечить Украину собствен...</td>\n",
       "      <td>Украине необходимо запустить собственное произ...</td>\n",
       "      <td>Экономика</td>\n",
       "      <td>Госэкономика</td>\n",
       "      <td>2017/08/30</td>\n",
       "    </tr>\n",
       "    <tr>\n",
       "      <th>680099</th>\n",
       "      <td>https://lenta.ru/news/2017/08/30/medvezhonok/</td>\n",
       "      <td>Медвежонка засняли на пункте пропуска на грани...</td>\n",
       "      <td>На российско-латвийской границе в пункте пропу...</td>\n",
       "      <td>Бывший СССР</td>\n",
       "      <td>Прибалтика</td>\n",
       "      <td>2017/08/30</td>\n",
       "    </tr>\n",
       "  </tbody>\n",
       "</table>\n",
       "<p>100 rows × 6 columns</p>\n",
       "</div>"
      ],
      "text/plain": [
       "                                                     url  \\\n",
       "680000       https://lenta.ru/news/2017/08/30/micex2000/   \n",
       "680001      https://lenta.ru/news/2017/08/30/naked_news/   \n",
       "680002       https://lenta.ru/news/2017/08/30/gorkypark/   \n",
       "680003            https://lenta.ru/news/2017/08/30/pets/   \n",
       "680004  https://lenta.ru/news/2017/08/30/woman_shooting/   \n",
       "...                                                  ...   \n",
       "680095          https://lenta.ru/news/2017/08/30/arctic/   \n",
       "680096            https://lenta.ru/news/2017/08/30/drop/   \n",
       "680097          https://lenta.ru/news/2017/08/30/darwin/   \n",
       "680098          https://lenta.ru/news/2017/08/30/ukrgas/   \n",
       "680099     https://lenta.ru/news/2017/08/30/medvezhonok/   \n",
       "\n",
       "                                                    title  \\\n",
       "680000  Индекс ММВБ перевалил за 2000 пунктов впервые ...   \n",
       "680001  Голые ведущие устроили соревнование по метанию...   \n",
       "680002  Следствие попросит арестовать подозреваемого в...   \n",
       "680003  Домашних питомцев предложили мыть натуральными...   \n",
       "680004         Неизвестный обстрелял россиянку на Пхукете   \n",
       "...                                                   ...   \n",
       "680095  Новый российский вездеход для Арктики запустят...   \n",
       "680096  Supreme научит поклонников марки правильно пит...   \n",
       "680097         Опровергнута эволюционная гипотеза Дарвина   \n",
       "680098  Порошенко собрался обеспечить Украину собствен...   \n",
       "680099  Медвежонка засняли на пункте пропуска на грани...   \n",
       "\n",
       "                                                     text              topic  \\\n",
       "680000  В ходе торгов на Московской бирже индекс ММВБ ...          Экономика   \n",
       "680001  Полностью обнаженные ведущие программы Naked N...     Интернет и СМИ   \n",
       "680002  Следствие попросит суд арестовать Корнея Макар...  Силовые структуры   \n",
       "680003  Косметическая марка Organic Shop выпустила пер...           Ценности   \n",
       "680004  Россиянка получила огнестрельные ранения во вр...        Путешествия   \n",
       "...                                                   ...                ...   \n",
       "680095  К концу 2017 года начнется мелкосерийное произ...     69-я параллель   \n",
       "680096  Американская марка Supreme показала подборку ф...           Ценности   \n",
       "680097  Австралийские ученые опровергли представление ...    Наука и техника   \n",
       "680098  Украине необходимо запустить собственное произ...          Экономика   \n",
       "680099  На российско-латвийской границе в пункте пропу...        Бывший СССР   \n",
       "\n",
       "                   tags        date  \n",
       "680000            Рынки  2017/08/30  \n",
       "680001       ТВ и радио  2017/08/30  \n",
       "680002  Следствие и суд  2017/08/30  \n",
       "680003      Внешний вид  2017/08/30  \n",
       "680004     Происшествия  2017/08/30  \n",
       "...                 ...         ...  \n",
       "680095       Достижения  2017/08/30  \n",
       "680096      Инструменты  2017/08/30  \n",
       "680097            Наука  2017/08/30  \n",
       "680098     Госэкономика  2017/08/30  \n",
       "680099       Прибалтика  2017/08/30  \n",
       "\n",
       "[100 rows x 6 columns]"
      ]
     },
     "execution_count": 14,
     "metadata": {},
     "output_type": "execute_result"
    }
   ],
   "source": [
    "data1.head(100)"
   ]
  },
  {
   "cell_type": "code",
   "execution_count": null,
   "metadata": {},
   "outputs": [],
   "source": []
  },
  {
   "cell_type": "code",
   "execution_count": null,
   "metadata": {},
   "outputs": [],
   "source": []
  },
  {
   "cell_type": "code",
   "execution_count": null,
   "metadata": {},
   "outputs": [],
   "source": []
  },
  {
   "cell_type": "code",
   "execution_count": null,
   "metadata": {},
   "outputs": [],
   "source": []
  },
  {
   "cell_type": "code",
   "execution_count": null,
   "metadata": {},
   "outputs": [],
   "source": []
  },
  {
   "cell_type": "code",
   "execution_count": 15,
   "metadata": {},
   "outputs": [
    {
     "data": {
      "text/plain": [
       "<50000x285691 sparse matrix of type '<class 'numpy.float64'>'\n",
       "\twith 6399302 stored elements in Compressed Sparse Row format>"
      ]
     },
     "execution_count": 15,
     "metadata": {},
     "output_type": "execute_result"
    }
   ],
   "source": [
    "vectorizer=TfidfVectorizer(analyzer='word')\n",
    "vectorizer.fit_transform(data1['text'] ) #.apply(lambda x: np.str_(x)))"
   ]
  },
  {
   "cell_type": "code",
   "execution_count": 18,
   "metadata": {},
   "outputs": [],
   "source": [
    "X_train = data1.tail(5000)['text']\n",
    "X_train_ve=vectorizer.fit_transform(X_train)\n",
    "X_train_arr=X_train_ve.toarray()\n",
    "y_train = data1.tail(5000)['topic']\n",
    "\n",
    "X_test = data1.head(1000)['text']\n",
    "X_test_ve=vectorizer.transform(X_test)\n",
    "X_test_arr=X_test_ve.toarray()\n",
    "y_test = data1.head(1000)['topic']\n",
    "y_test = np.array(y_test)"
   ]
  },
  {
   "cell_type": "code",
   "execution_count": null,
   "metadata": {},
   "outputs": [],
   "source": []
  },
  {
   "cell_type": "code",
   "execution_count": null,
   "metadata": {},
   "outputs": [],
   "source": []
  },
  {
   "cell_type": "code",
   "execution_count": null,
   "metadata": {},
   "outputs": [],
   "source": []
  },
  {
   "cell_type": "code",
   "execution_count": 19,
   "metadata": {},
   "outputs": [],
   "source": [
    "model = LogisticRegression()\n",
    "model.fit(X_train_arr, y_train)\n",
    "result = model.predict(X_test_arr)"
   ]
  },
  {
   "cell_type": "code",
   "execution_count": 20,
   "metadata": {},
   "outputs": [
    {
     "name": "stdout",
     "output_type": "stream",
     "text": [
      "train -  0.9462\n",
      "test -  0.695\n",
      "                   precision    recall  f1-score   support\n",
      "\n",
      "   69-я параллель       0.00      0.00      0.00        10\n",
      "           Бизнес       0.00      0.00      0.00        26\n",
      "      Бывший СССР       0.79      0.75      0.77        60\n",
      "              Дом       0.80      0.41      0.55        29\n",
      "         Из жизни       0.55      0.62      0.58        29\n",
      "   Интернет и СМИ       0.75      0.68      0.71        66\n",
      "             Крым       0.00      0.00      0.00         9\n",
      "    Культпросвет        0.00      0.00      0.00         3\n",
      "         Культура       0.85      0.56      0.68        80\n",
      "              Мир       0.71      0.85      0.77       155\n",
      "  Наука и техника       0.88      0.81      0.84        53\n",
      "      Путешествия       0.67      0.05      0.09        42\n",
      "           Россия       0.53      0.85      0.66       163\n",
      "Силовые структуры       0.77      0.55      0.64        73\n",
      "            Спорт       0.97      0.94      0.95        98\n",
      "         Ценности       1.00      0.64      0.78        55\n",
      "        Экономика       0.47      0.96      0.63        49\n",
      "\n",
      "         accuracy                           0.69      1000\n",
      "        macro avg       0.57      0.51      0.51      1000\n",
      "     weighted avg       0.70      0.69      0.67      1000\n",
      "\n",
      "[[  0   0   0   0   0   0   0   0   0   0   0   0   7   0   0   0   3]\n",
      " [  0   0   1   0   0   0   0   0   0   2   1   0   1   1   0   0  20]\n",
      " [  0   0  45   0   0   1   0   0   0   1   1   0  10   2   0   0   0]\n",
      " [  0   0   0  12   0   0   0   0   0   1   0   0   6   0   0   0  10]\n",
      " [  0   0   0   0  18   2   0   0   1   5   0   0   2   0   0   0   1]\n",
      " [  0   0   4   0   1  45   0   0   2   4   0   0   8   0   0   0   2]\n",
      " [  0   0   2   0   0   0   0   0   0   1   0   0   4   0   0   0   2]\n",
      " [  0   0   0   0   0   0   0   0   0   0   0   0   2   1   0   0   0]\n",
      " [  0   0   1   0   0   6   0   0  45   0   0   0  27   1   0   0   0]\n",
      " [  0   0   4   0   9   0   0   0   0 132   0   0  10   0   0   0   0]\n",
      " [  0   0   0   0   0   1   0   0   1   1  43   0   5   0   1   0   1]\n",
      " [  0   0   0   2   4   2   0   0   0  15   0   2  11   0   0   0   6]\n",
      " [  0   0   0   0   1   2   0   0   0  11   0   1 139   6   1   0   2]\n",
      " [  0   0   0   0   0   0   0   0   0  12   1   0  18  40   0   0   2]\n",
      " [  0   0   0   0   0   1   0   0   0   0   0   0   4   1  92   0   0]\n",
      " [  0   0   0   0   0   0   0   0   4   2   3   0   6   0   1  35   4]\n",
      " [  0   0   0   1   0   0   0   0   0   0   0   0   1   0   0   0  47]]\n"
     ]
    },
    {
     "name": "stderr",
     "output_type": "stream",
     "text": [
      "D:\\aa\\lib\\site-packages\\sklearn\\metrics\\_classification.py:1221: UndefinedMetricWarning: Precision and F-score are ill-defined and being set to 0.0 in labels with no predicted samples. Use `zero_division` parameter to control this behavior.\n",
      "  _warn_prf(average, modifier, msg_start, len(result))\n"
     ]
    }
   ],
   "source": [
    "print('train - ', model.score(X_train_arr, y_train))\n",
    "print('test - ',metrics.accuracy_score(y_test,result))\n",
    "print(metrics.classification_report (y_test,result))\n",
    "print(metrics.confusion_matrix (y_test,result))"
   ]
  },
  {
   "cell_type": "code",
   "execution_count": 22,
   "metadata": {},
   "outputs": [
    {
     "data": {
      "text/plain": [
       "array(['Спорт'], dtype=object)"
      ]
     },
     "execution_count": 22,
     "metadata": {},
     "output_type": "execute_result"
    }
   ],
   "source": [
    "model.predict(vectorizer.transform(['Тревис забил гол']))"
   ]
  },
  {
   "cell_type": "code",
   "execution_count": null,
   "metadata": {},
   "outputs": [],
   "source": []
  },
  {
   "cell_type": "code",
   "execution_count": null,
   "metadata": {},
   "outputs": [],
   "source": []
  },
  {
   "cell_type": "code",
   "execution_count": null,
   "metadata": {},
   "outputs": [],
   "source": []
  },
  {
   "cell_type": "code",
   "execution_count": null,
   "metadata": {},
   "outputs": [],
   "source": []
  },
  {
   "cell_type": "code",
   "execution_count": null,
   "metadata": {},
   "outputs": [],
   "source": []
  },
  {
   "cell_type": "code",
   "execution_count": null,
   "metadata": {},
   "outputs": [],
   "source": []
  }
 ],
 "metadata": {
  "kernelspec": {
   "display_name": "Python 3",
   "language": "python",
   "name": "python3"
  },
  "language_info": {
   "codemirror_mode": {
    "name": "ipython",
    "version": 3
   },
   "file_extension": ".py",
   "mimetype": "text/x-python",
   "name": "python",
   "nbconvert_exporter": "python",
   "pygments_lexer": "ipython3",
   "version": "3.7.6"
  }
 },
 "nbformat": 4,
 "nbformat_minor": 4
}
