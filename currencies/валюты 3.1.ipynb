{
 "cells": [
  {
   "cell_type": "code",
   "execution_count": null,
   "metadata": {},
   "outputs": [],
   "source": [
    "import pandas as pd\n",
    "import numpy as np\n",
    "from sklearn.linear_model import LinearRegression\n",
    "import matplotlib.pyplot as plt\n",
    "import sklearn"
   ]
  },
  {
   "cell_type": "code",
   "execution_count": 2,
   "metadata": {},
   "outputs": [],
   "source": [
    "money = pd.read_csv(\"Downloads/PPPP.csv\", delimiter=\",\")"
   ]
  },
  {
   "cell_type": "code",
   "execution_count": 3,
   "metadata": {},
   "outputs": [],
   "source": [
    "def convert_money(string):\n",
    "    return float(string.replace(\",\", \".\"))"
   ]
  },
  {
   "cell_type": "code",
   "execution_count": 4,
   "metadata": {},
   "outputs": [],
   "source": [
    "money[\"curs\"] = money[\"curs\"].apply(convert_money)"
   ]
  },
  {
   "cell_type": "code",
   "execution_count": 5,
   "metadata": {},
   "outputs": [
    {
     "data": {
      "text/html": [
       "<div>\n",
       "<style scoped>\n",
       "    .dataframe tbody tr th:only-of-type {\n",
       "        vertical-align: middle;\n",
       "    }\n",
       "\n",
       "    .dataframe tbody tr th {\n",
       "        vertical-align: top;\n",
       "    }\n",
       "\n",
       "    .dataframe thead th {\n",
       "        text-align: right;\n",
       "    }\n",
       "</style>\n",
       "<table border=\"1\" class=\"dataframe\">\n",
       "  <thead>\n",
       "    <tr style=\"text-align: right;\">\n",
       "      <th></th>\n",
       "      <th>nominal</th>\n",
       "      <th>data</th>\n",
       "      <th>curs</th>\n",
       "      <th>cdx</th>\n",
       "    </tr>\n",
       "  </thead>\n",
       "  <tbody>\n",
       "    <tr>\n",
       "      <th>0</th>\n",
       "      <td>1</td>\n",
       "      <td>10.01.2019</td>\n",
       "      <td>67.0795</td>\n",
       "      <td>Доллар США</td>\n",
       "    </tr>\n",
       "    <tr>\n",
       "      <th>1</th>\n",
       "      <td>1</td>\n",
       "      <td>11.01.2019</td>\n",
       "      <td>66.8605</td>\n",
       "      <td>Доллар США</td>\n",
       "    </tr>\n",
       "    <tr>\n",
       "      <th>2</th>\n",
       "      <td>1</td>\n",
       "      <td>12.01.2019</td>\n",
       "      <td>66.9167</td>\n",
       "      <td>Доллар США</td>\n",
       "    </tr>\n",
       "  </tbody>\n",
       "</table>\n",
       "</div>"
      ],
      "text/plain": [
       "   nominal        data     curs         cdx\n",
       "0        1  10.01.2019  67.0795  Доллар США\n",
       "1        1  11.01.2019  66.8605  Доллар США\n",
       "2        1  12.01.2019  66.9167  Доллар США"
      ]
     },
     "execution_count": 5,
     "metadata": {},
     "output_type": "execute_result"
    }
   ],
   "source": [
    "money.head(3)"
   ]
  },
  {
   "cell_type": "code",
   "execution_count": 6,
   "metadata": {},
   "outputs": [],
   "source": [
    "curs = money[\"curs\"]"
   ]
  },
  {
   "cell_type": "code",
   "execution_count": 7,
   "metadata": {},
   "outputs": [
    {
     "data": {
      "text/plain": [
       "[<matplotlib.lines.Line2D at 0x26eb4e03448>]"
      ]
     },
     "execution_count": 7,
     "metadata": {},
     "output_type": "execute_result"
    },
    {
     "data": {
      "image/png": "[encoded data removed]",
      "text/plain": [
       "<Figure size 432x288 with 1 Axes>"
      ]
     },
     "metadata": {
      "needs_background": "light"
     },
     "output_type": "display_data"
    }
   ],
   "source": [
    "plt.plot(curs)"
   ]
  },
  {
   "cell_type": "code",
   "execution_count": 8,
   "metadata": {},
   "outputs": [],
   "source": [
    "past = 7 * 4\n",
    "future = 7"
   ]
  },
  {
   "cell_type": "code",
   "execution_count": 9,
   "metadata": {},
   "outputs": [],
   "source": [
    "start = past\n",
    "end = len(curs) - future\n",
    "\n",
    "prepared = []\n",
    "\n",
    "for i in range(start,end):\n",
    "    past_and_future_curs = curs[(i-past):(i+future)]\n",
    "    prepared.append(list(past_and_future_curs))"
   ]
  },
  {
   "cell_type": "code",
   "execution_count": 10,
   "metadata": {},
   "outputs": [],
   "source": [
    "past_columns = [f\"past_{i}\" for i in range(past)]\n",
    "future_columns = [f\"future_{i}\" for i in range(future)]"
   ]
  },
  {
   "cell_type": "code",
   "execution_count": 11,
   "metadata": {},
   "outputs": [
    {
     "data": {
      "text/plain": [
       "['past_0',\n",
       " 'past_1',\n",
       " 'past_2',\n",
       " 'past_3',\n",
       " 'past_4',\n",
       " 'past_5',\n",
       " 'past_6',\n",
       " 'past_7',\n",
       " 'past_8',\n",
       " 'past_9',\n",
       " 'past_10',\n",
       " 'past_11',\n",
       " 'past_12',\n",
       " 'past_13',\n",
       " 'past_14',\n",
       " 'past_15',\n",
       " 'past_16',\n",
       " 'past_17',\n",
       " 'past_18',\n",
       " 'past_19',\n",
       " 'past_20',\n",
       " 'past_21',\n",
       " 'past_22',\n",
       " 'past_23',\n",
       " 'past_24',\n",
       " 'past_25',\n",
       " 'past_26',\n",
       " 'past_27']"
      ]
     },
     "execution_count": 11,
     "metadata": {},
     "output_type": "execute_result"
    }
   ],
   "source": [
    "past_columns"
   ]
  },
  {
   "cell_type": "code",
   "execution_count": 12,
   "metadata": {},
   "outputs": [
    {
     "data": {
      "text/plain": [
       "['future_0',\n",
       " 'future_1',\n",
       " 'future_2',\n",
       " 'future_3',\n",
       " 'future_4',\n",
       " 'future_5',\n",
       " 'future_6']"
      ]
     },
     "execution_count": 12,
     "metadata": {},
     "output_type": "execute_result"
    }
   ],
   "source": [
    "future_columns"
   ]
  },
  {
   "cell_type": "code",
   "execution_count": 13,
   "metadata": {},
   "outputs": [],
   "source": [
    "df = pd.DataFrame(prepared, columns=(past_columns+future_columns))"
   ]
  },
  {
   "cell_type": "code",
   "execution_count": 14,
   "metadata": {},
   "outputs": [
    {
     "data": {
      "text/html": [
       "<div>\n",
       "<style scoped>\n",
       "    .dataframe tbody tr th:only-of-type {\n",
       "        vertical-align: middle;\n",
       "    }\n",
       "\n",
       "    .dataframe tbody tr th {\n",
       "        vertical-align: top;\n",
       "    }\n",
       "\n",
       "    .dataframe thead th {\n",
       "        text-align: right;\n",
       "    }\n",
       "</style>\n",
       "<table border=\"1\" class=\"dataframe\">\n",
       "  <thead>\n",
       "    <tr style=\"text-align: right;\">\n",
       "      <th></th>\n",
       "      <th>past_0</th>\n",
       "      <th>past_1</th>\n",
       "      <th>past_2</th>\n",
       "      <th>past_3</th>\n",
       "      <th>past_4</th>\n",
       "      <th>past_5</th>\n",
       "      <th>past_6</th>\n",
       "      <th>past_7</th>\n",
       "      <th>past_8</th>\n",
       "      <th>past_9</th>\n",
       "      <th>...</th>\n",
       "      <th>past_25</th>\n",
       "      <th>past_26</th>\n",
       "      <th>past_27</th>\n",
       "      <th>future_0</th>\n",
       "      <th>future_1</th>\n",
       "      <th>future_2</th>\n",
       "      <th>future_3</th>\n",
       "      <th>future_4</th>\n",
       "      <th>future_5</th>\n",
       "      <th>future_6</th>\n",
       "    </tr>\n",
       "  </thead>\n",
       "  <tbody>\n",
       "    <tr>\n",
       "      <th>0</th>\n",
       "      <td>67.0795</td>\n",
       "      <td>66.8605</td>\n",
       "      <td>66.9167</td>\n",
       "      <td>67.1920</td>\n",
       "      <td>67.0820</td>\n",
       "      <td>66.7617</td>\n",
       "      <td>66.4438</td>\n",
       "      <td>66.3309</td>\n",
       "      <td>66.3634</td>\n",
       "      <td>66.5499</td>\n",
       "      <td>...</td>\n",
       "      <td>65.6783</td>\n",
       "      <td>66.5429</td>\n",
       "      <td>66.7044</td>\n",
       "      <td>66.2470</td>\n",
       "      <td>66.2022</td>\n",
       "      <td>65.8568</td>\n",
       "      <td>65.5401</td>\n",
       "      <td>65.5149</td>\n",
       "      <td>65.2582</td>\n",
       "      <td>65.6182</td>\n",
       "    </tr>\n",
       "    <tr>\n",
       "      <th>1</th>\n",
       "      <td>66.8605</td>\n",
       "      <td>66.9167</td>\n",
       "      <td>67.1920</td>\n",
       "      <td>67.0820</td>\n",
       "      <td>66.7617</td>\n",
       "      <td>66.4438</td>\n",
       "      <td>66.3309</td>\n",
       "      <td>66.3634</td>\n",
       "      <td>66.5499</td>\n",
       "      <td>66.3318</td>\n",
       "      <td>...</td>\n",
       "      <td>66.5429</td>\n",
       "      <td>66.7044</td>\n",
       "      <td>66.2470</td>\n",
       "      <td>66.2022</td>\n",
       "      <td>65.8568</td>\n",
       "      <td>65.5401</td>\n",
       "      <td>65.5149</td>\n",
       "      <td>65.2582</td>\n",
       "      <td>65.6182</td>\n",
       "      <td>65.7570</td>\n",
       "    </tr>\n",
       "    <tr>\n",
       "      <th>2</th>\n",
       "      <td>66.9167</td>\n",
       "      <td>67.1920</td>\n",
       "      <td>67.0820</td>\n",
       "      <td>66.7617</td>\n",
       "      <td>66.4438</td>\n",
       "      <td>66.3309</td>\n",
       "      <td>66.3634</td>\n",
       "      <td>66.5499</td>\n",
       "      <td>66.3318</td>\n",
       "      <td>66.0016</td>\n",
       "      <td>...</td>\n",
       "      <td>66.7044</td>\n",
       "      <td>66.2470</td>\n",
       "      <td>66.2022</td>\n",
       "      <td>65.8568</td>\n",
       "      <td>65.5401</td>\n",
       "      <td>65.5149</td>\n",
       "      <td>65.2582</td>\n",
       "      <td>65.6182</td>\n",
       "      <td>65.7570</td>\n",
       "      <td>65.8895</td>\n",
       "    </tr>\n",
       "    <tr>\n",
       "      <th>3</th>\n",
       "      <td>67.1920</td>\n",
       "      <td>67.0820</td>\n",
       "      <td>66.7617</td>\n",
       "      <td>66.4438</td>\n",
       "      <td>66.3309</td>\n",
       "      <td>66.3634</td>\n",
       "      <td>66.5499</td>\n",
       "      <td>66.3318</td>\n",
       "      <td>66.0016</td>\n",
       "      <td>65.9170</td>\n",
       "      <td>...</td>\n",
       "      <td>66.2470</td>\n",
       "      <td>66.2022</td>\n",
       "      <td>65.8568</td>\n",
       "      <td>65.5401</td>\n",
       "      <td>65.5149</td>\n",
       "      <td>65.2582</td>\n",
       "      <td>65.6182</td>\n",
       "      <td>65.7570</td>\n",
       "      <td>65.8895</td>\n",
       "      <td>65.8145</td>\n",
       "    </tr>\n",
       "    <tr>\n",
       "      <th>4</th>\n",
       "      <td>67.0820</td>\n",
       "      <td>66.7617</td>\n",
       "      <td>66.4438</td>\n",
       "      <td>66.3309</td>\n",
       "      <td>66.3634</td>\n",
       "      <td>66.5499</td>\n",
       "      <td>66.3318</td>\n",
       "      <td>66.0016</td>\n",
       "      <td>65.9170</td>\n",
       "      <td>65.9300</td>\n",
       "      <td>...</td>\n",
       "      <td>66.2022</td>\n",
       "      <td>65.8568</td>\n",
       "      <td>65.5401</td>\n",
       "      <td>65.5149</td>\n",
       "      <td>65.2582</td>\n",
       "      <td>65.6182</td>\n",
       "      <td>65.7570</td>\n",
       "      <td>65.8895</td>\n",
       "      <td>65.8145</td>\n",
       "      <td>65.7956</td>\n",
       "    </tr>\n",
       "    <tr>\n",
       "      <th>...</th>\n",
       "      <td>...</td>\n",
       "      <td>...</td>\n",
       "      <td>...</td>\n",
       "      <td>...</td>\n",
       "      <td>...</td>\n",
       "      <td>...</td>\n",
       "      <td>...</td>\n",
       "      <td>...</td>\n",
       "      <td>...</td>\n",
       "      <td>...</td>\n",
       "      <td>...</td>\n",
       "      <td>...</td>\n",
       "      <td>...</td>\n",
       "      <td>...</td>\n",
       "      <td>...</td>\n",
       "      <td>...</td>\n",
       "      <td>...</td>\n",
       "      <td>...</td>\n",
       "      <td>...</td>\n",
       "      <td>...</td>\n",
       "      <td>...</td>\n",
       "    </tr>\n",
       "    <tr>\n",
       "      <th>314</th>\n",
       "      <td>77.0416</td>\n",
       "      <td>75.1290</td>\n",
       "      <td>74.7163</td>\n",
       "      <td>74.4960</td>\n",
       "      <td>74.5706</td>\n",
       "      <td>73.6894</td>\n",
       "      <td>72.7263</td>\n",
       "      <td>73.9719</td>\n",
       "      <td>74.1169</td>\n",
       "      <td>73.8725</td>\n",
       "      <td>...</td>\n",
       "      <td>68.9831</td>\n",
       "      <td>68.3413</td>\n",
       "      <td>69.0151</td>\n",
       "      <td>68.6319</td>\n",
       "      <td>68.3123</td>\n",
       "      <td>68.6745</td>\n",
       "      <td>68.6183</td>\n",
       "      <td>69.1219</td>\n",
       "      <td>70.3950</td>\n",
       "      <td>69.7524</td>\n",
       "    </tr>\n",
       "    <tr>\n",
       "      <th>315</th>\n",
       "      <td>75.1290</td>\n",
       "      <td>74.7163</td>\n",
       "      <td>74.4960</td>\n",
       "      <td>74.5706</td>\n",
       "      <td>73.6894</td>\n",
       "      <td>72.7263</td>\n",
       "      <td>73.9719</td>\n",
       "      <td>74.1169</td>\n",
       "      <td>73.8725</td>\n",
       "      <td>73.4326</td>\n",
       "      <td>...</td>\n",
       "      <td>68.3413</td>\n",
       "      <td>69.0151</td>\n",
       "      <td>68.6319</td>\n",
       "      <td>68.3123</td>\n",
       "      <td>68.6745</td>\n",
       "      <td>68.6183</td>\n",
       "      <td>69.1219</td>\n",
       "      <td>70.3950</td>\n",
       "      <td>69.7524</td>\n",
       "      <td>69.4822</td>\n",
       "    </tr>\n",
       "    <tr>\n",
       "      <th>316</th>\n",
       "      <td>74.7163</td>\n",
       "      <td>74.4960</td>\n",
       "      <td>74.5706</td>\n",
       "      <td>73.6894</td>\n",
       "      <td>72.7263</td>\n",
       "      <td>73.9719</td>\n",
       "      <td>74.1169</td>\n",
       "      <td>73.8725</td>\n",
       "      <td>73.4326</td>\n",
       "      <td>73.5819</td>\n",
       "      <td>...</td>\n",
       "      <td>69.0151</td>\n",
       "      <td>68.6319</td>\n",
       "      <td>68.3123</td>\n",
       "      <td>68.6745</td>\n",
       "      <td>68.6183</td>\n",
       "      <td>69.1219</td>\n",
       "      <td>70.3950</td>\n",
       "      <td>69.7524</td>\n",
       "      <td>69.4822</td>\n",
       "      <td>69.6180</td>\n",
       "    </tr>\n",
       "    <tr>\n",
       "      <th>317</th>\n",
       "      <td>74.4960</td>\n",
       "      <td>74.5706</td>\n",
       "      <td>73.6894</td>\n",
       "      <td>72.7263</td>\n",
       "      <td>73.9719</td>\n",
       "      <td>74.1169</td>\n",
       "      <td>73.8725</td>\n",
       "      <td>73.4326</td>\n",
       "      <td>73.5819</td>\n",
       "      <td>73.9298</td>\n",
       "      <td>...</td>\n",
       "      <td>68.6319</td>\n",
       "      <td>68.3123</td>\n",
       "      <td>68.6745</td>\n",
       "      <td>68.6183</td>\n",
       "      <td>69.1219</td>\n",
       "      <td>70.3950</td>\n",
       "      <td>69.7524</td>\n",
       "      <td>69.4822</td>\n",
       "      <td>69.6180</td>\n",
       "      <td>69.5725</td>\n",
       "    </tr>\n",
       "    <tr>\n",
       "      <th>318</th>\n",
       "      <td>74.5706</td>\n",
       "      <td>73.6894</td>\n",
       "      <td>72.7263</td>\n",
       "      <td>73.9719</td>\n",
       "      <td>74.1169</td>\n",
       "      <td>73.8725</td>\n",
       "      <td>73.4326</td>\n",
       "      <td>73.5819</td>\n",
       "      <td>73.9298</td>\n",
       "      <td>73.2056</td>\n",
       "      <td>...</td>\n",
       "      <td>68.3123</td>\n",
       "      <td>68.6745</td>\n",
       "      <td>68.6183</td>\n",
       "      <td>69.1219</td>\n",
       "      <td>70.3950</td>\n",
       "      <td>69.7524</td>\n",
       "      <td>69.4822</td>\n",
       "      <td>69.6180</td>\n",
       "      <td>69.5725</td>\n",
       "      <td>69.4835</td>\n",
       "    </tr>\n",
       "  </tbody>\n",
       "</table>\n",
       "<p>319 rows × 35 columns</p>\n",
       "</div>"
      ],
      "text/plain": [
       "      past_0   past_1   past_2   past_3   past_4   past_5   past_6   past_7  \\\n",
       "0    67.0795  66.8605  66.9167  67.1920  67.0820  66.7617  66.4438  66.3309   \n",
       "1    66.8605  66.9167  67.1920  67.0820  66.7617  66.4438  66.3309  66.3634   \n",
       "2    66.9167  67.1920  67.0820  66.7617  66.4438  66.3309  66.3634  66.5499   \n",
       "3    67.1920  67.0820  66.7617  66.4438  66.3309  66.3634  66.5499  66.3318   \n",
       "4    67.0820  66.7617  66.4438  66.3309  66.3634  66.5499  66.3318  66.0016   \n",
       "..       ...      ...      ...      ...      ...      ...      ...      ...   \n",
       "314  77.0416  75.1290  74.7163  74.4960  74.5706  73.6894  72.7263  73.9719   \n",
       "315  75.1290  74.7163  74.4960  74.5706  73.6894  72.7263  73.9719  74.1169   \n",
       "316  74.7163  74.4960  74.5706  73.6894  72.7263  73.9719  74.1169  73.8725   \n",
       "317  74.4960  74.5706  73.6894  72.7263  73.9719  74.1169  73.8725  73.4326   \n",
       "318  74.5706  73.6894  72.7263  73.9719  74.1169  73.8725  73.4326  73.5819   \n",
       "\n",
       "      past_8   past_9  ...  past_25  past_26  past_27  future_0  future_1  \\\n",
       "0    66.3634  66.5499  ...  65.6783  66.5429  66.7044   66.2470   66.2022   \n",
       "1    66.5499  66.3318  ...  66.5429  66.7044  66.2470   66.2022   65.8568   \n",
       "2    66.3318  66.0016  ...  66.7044  66.2470  66.2022   65.8568   65.5401   \n",
       "3    66.0016  65.9170  ...  66.2470  66.2022  65.8568   65.5401   65.5149   \n",
       "4    65.9170  65.9300  ...  66.2022  65.8568  65.5401   65.5149   65.2582   \n",
       "..       ...      ...  ...      ...      ...      ...       ...       ...   \n",
       "314  74.1169  73.8725  ...  68.9831  68.3413  69.0151   68.6319   68.3123   \n",
       "315  73.8725  73.4326  ...  68.3413  69.0151  68.6319   68.3123   68.6745   \n",
       "316  73.4326  73.5819  ...  69.0151  68.6319  68.3123   68.6745   68.6183   \n",
       "317  73.5819  73.9298  ...  68.6319  68.3123  68.6745   68.6183   69.1219   \n",
       "318  73.9298  73.2056  ...  68.3123  68.6745  68.6183   69.1219   70.3950   \n",
       "\n",
       "     future_2  future_3  future_4  future_5  future_6  \n",
       "0     65.8568   65.5401   65.5149   65.2582   65.6182  \n",
       "1     65.5401   65.5149   65.2582   65.6182   65.7570  \n",
       "2     65.5149   65.2582   65.6182   65.7570   65.8895  \n",
       "3     65.2582   65.6182   65.7570   65.8895   65.8145  \n",
       "4     65.6182   65.7570   65.8895   65.8145   65.7956  \n",
       "..        ...       ...       ...       ...       ...  \n",
       "314   68.6745   68.6183   69.1219   70.3950   69.7524  \n",
       "315   68.6183   69.1219   70.3950   69.7524   69.4822  \n",
       "316   69.1219   70.3950   69.7524   69.4822   69.6180  \n",
       "317   70.3950   69.7524   69.4822   69.6180   69.5725  \n",
       "318   69.7524   69.4822   69.6180   69.5725   69.4835  \n",
       "\n",
       "[319 rows x 35 columns]"
      ]
     },
     "execution_count": 14,
     "metadata": {},
     "output_type": "execute_result"
    }
   ],
   "source": [
    "df"
   ]
  },
  {
   "cell_type": "code",
   "execution_count": 15,
   "metadata": {},
   "outputs": [],
   "source": [
    "X = df[past_columns][:-1]\n",
    "y = df[future_columns][:-1]"
   ]
  },
  {
   "cell_type": "code",
   "execution_count": 16,
   "metadata": {},
   "outputs": [],
   "source": [
    "X_test = df[past_columns][-1:]\n",
    "y_test = df[future_columns][-1:]"
   ]
  },
  {
   "cell_type": "code",
   "execution_count": 17,
   "metadata": {},
   "outputs": [],
   "source": [
    "LinReg = LinearRegression()"
   ]
  },
  {
   "cell_type": "code",
   "execution_count": 18,
   "metadata": {},
   "outputs": [
    {
     "data": {
      "text/plain": [
       "LinearRegression()"
      ]
     },
     "execution_count": 18,
     "metadata": {},
     "output_type": "execute_result"
    }
   ],
   "source": [
    "LinReg.fit(X,y)"
   ]
  },
  {
   "cell_type": "code",
   "execution_count": 19,
   "metadata": {},
   "outputs": [],
   "source": [
    "prediction = LinReg.predict(X_test)"
   ]
  },
  {
   "cell_type": "code",
   "execution_count": 20,
   "metadata": {},
   "outputs": [
    {
     "data": {
      "text/plain": [
       "4.8167621996385375"
      ]
     },
     "execution_count": 20,
     "metadata": {},
     "output_type": "execute_result"
    }
   ],
   "source": [
    "np.linalg.norm(y_test - prediction)"
   ]
  },
  {
   "cell_type": "code",
   "execution_count": 21,
   "metadata": {},
   "outputs": [],
   "source": [
    "from sklearn.metrics import mean_absolute_error"
   ]
  },
  {
   "cell_type": "code",
   "execution_count": 22,
   "metadata": {},
   "outputs": [
    {
     "data": {
      "text/plain": [
       "1.764463111194587"
      ]
     },
     "execution_count": 22,
     "metadata": {},
     "output_type": "execute_result"
    }
   ],
   "source": [
    "mean_absolute_error(y_test, prediction)"
   ]
  },
  {
   "cell_type": "code",
   "execution_count": 23,
   "metadata": {},
   "outputs": [
    {
     "data": {
      "text/plain": [
       "array([[[68.14893273, 67.79970533, 68.13547495, 67.87528989,\n",
       "         67.87906567, 67.68955618, 67.54623347]]])"
      ]
     },
     "execution_count": 23,
     "metadata": {},
     "output_type": "execute_result"
    }
   ],
   "source": [
    "np.array([prediction])"
   ]
  },
  {
   "cell_type": "code",
   "execution_count": 24,
   "metadata": {},
   "outputs": [
    {
     "data": {
      "text/plain": [
       "1.764463111194587"
      ]
     },
     "execution_count": 24,
     "metadata": {},
     "output_type": "execute_result"
    }
   ],
   "source": [
    "sklearn.metrics.mean_absolute_error(np.array([list(y_test.iloc[0])]), np.array([prediction[0]]))"
   ]
  },
  {
   "cell_type": "code",
   "execution_count": 25,
   "metadata": {},
   "outputs": [
    {
     "data": {
      "text/plain": [
       "array([[69.1219, 70.395 , 69.7524, 69.4822, 69.618 , 69.5725, 69.4835]])"
      ]
     },
     "execution_count": 25,
     "metadata": {},
     "output_type": "execute_result"
    }
   ],
   "source": [
    "np.array([list(y_test.iloc[0])])"
   ]
  },
  {
   "cell_type": "code",
   "execution_count": 26,
   "metadata": {},
   "outputs": [
    {
     "data": {
      "text/plain": [
       "<matplotlib.legend.Legend at 0x26eb6fa9d08>"
      ]
     },
     "execution_count": 26,
     "metadata": {},
     "output_type": "execute_result"
    },
    {
     "data": {
      "image/png": "[encoded data removed]",
      "text/plain": [
       "<Figure size 432x288 with 1 Axes>"
      ]
     },
     "metadata": {
      "needs_background": "light"
     },
     "output_type": "display_data"
    }
   ],
   "source": [
    "plt.plot(prediction[0], label=\"pr\")\n",
    "plt.plot(y_test.iloc[0], label=\"real\")\n",
    "plt.legend()         "
   ]
  },
  {
   "cell_type": "code",
   "execution_count": 27,
   "metadata": {},
   "outputs": [],
   "source": [
    "from sklearn.neighbors import KNeighborsRegressor"
   ]
  },
  {
   "cell_type": "code",
   "execution_count": 28,
   "metadata": {},
   "outputs": [
    {
     "data": {
      "text/plain": [
       "KNeighborsRegressor(n_neighbors=16)"
      ]
     },
     "execution_count": 28,
     "metadata": {},
     "output_type": "execute_result"
    }
   ],
   "source": [
    "KNN = KNeighborsRegressor(n_neighbors=16)\n",
    "KNN.fit(X,y)"
   ]
  },
  {
   "cell_type": "code",
   "execution_count": 29,
   "metadata": {},
   "outputs": [],
   "source": [
    "prediction = KNN.predict(X_test)"
   ]
  },
  {
   "cell_type": "code",
   "execution_count": 30,
   "metadata": {},
   "outputs": [
    {
     "data": {
      "text/plain": [
       "<matplotlib.legend.Legend at 0x26eb7119c88>"
      ]
     },
     "execution_count": 30,
     "metadata": {},
     "output_type": "execute_result"
    },
    {
     "data": {
      "image/png": "[encoded data removed]",
      "text/plain": [
       "<Figure size 432x288 with 1 Axes>"
      ]
     },
     "metadata": {
      "needs_background": "light"
     },
     "output_type": "display_data"
    }
   ],
   "source": [
    "plt.plot(prediction[0], label=\"pr\")\n",
    "plt.plot(y_test.iloc[0], label=\"real\")\n",
    "plt.legend()\n"
   ]
  },
  {
   "cell_type": "code",
   "execution_count": 31,
   "metadata": {},
   "outputs": [
    {
     "data": {
      "text/plain": [
       "0.28939196428571684"
      ]
     },
     "execution_count": 31,
     "metadata": {},
     "output_type": "execute_result"
    }
   ],
   "source": [
    "sklearn.metrics.mean_absolute_error(np.array([list(y_test.iloc[0])]), np.array([prediction[0]]))"
   ]
  },
  {
   "cell_type": "code",
   "execution_count": 32,
   "metadata": {},
   "outputs": [
    {
     "data": {
      "text/plain": [
       "1.118472530657741"
      ]
     },
     "execution_count": 32,
     "metadata": {},
     "output_type": "execute_result"
    }
   ],
   "source": [
    "np.linalg.norm(y_test - prediction)"
   ]
  },
  {
   "cell_type": "code",
   "execution_count": 33,
   "metadata": {},
   "outputs": [],
   "source": [
    "from sklearn.neural_network import MLPRegressor"
   ]
  },
  {
   "cell_type": "code",
   "execution_count": 34,
   "metadata": {},
   "outputs": [],
   "source": [
    "MLP = MLPRegressor(max_iter=2000, hidden_layer_sizes=400)"
   ]
  },
  {
   "cell_type": "code",
   "execution_count": 35,
   "metadata": {},
   "outputs": [
    {
     "data": {
      "text/plain": [
       "MLPRegressor(hidden_layer_sizes=400, max_iter=2000)"
      ]
     },
     "execution_count": 35,
     "metadata": {},
     "output_type": "execute_result"
    }
   ],
   "source": [
    "MLP.fit(X,y)"
   ]
  },
  {
   "cell_type": "code",
   "execution_count": null,
   "metadata": {},
   "outputs": [],
   "source": []
  },
  {
   "cell_type": "code",
   "execution_count": 36,
   "metadata": {},
   "outputs": [],
   "source": [
    "prediction = MLP.predict(X_test)"
   ]
  },
  {
   "cell_type": "code",
   "execution_count": 37,
   "metadata": {},
   "outputs": [
    {
     "data": {
      "text/plain": [
       "<matplotlib.legend.Legend at 0x26eb71b9b88>"
      ]
     },
     "execution_count": 37,
     "metadata": {},
     "output_type": "execute_result"
    },
    {
     "data": {
      "image/png": "[encoded data removed]",
      "text/plain": [
       "<Figure size 432x288 with 1 Axes>"
      ]
     },
     "metadata": {
      "needs_background": "light"
     },
     "output_type": "display_data"
    }
   ],
   "source": [
    "plt.plot(prediction[0], label=\"pr\")\n",
    "plt.plot(y_test.iloc[0], label=\"real\")\n",
    "plt.legend()"
   ]
  },
  {
   "cell_type": "code",
   "execution_count": 38,
   "metadata": {},
   "outputs": [
    {
     "data": {
      "text/plain": [
       "2.0338573304188805"
      ]
     },
     "execution_count": 38,
     "metadata": {},
     "output_type": "execute_result"
    }
   ],
   "source": [
    "sklearn.metrics.mean_absolute_error(np.array([list(y_test.iloc[0])]), np.array([prediction[0]]))"
   ]
  },
  {
   "cell_type": "code",
   "execution_count": null,
   "metadata": {},
   "outputs": [],
   "source": []
  },
  {
   "cell_type": "code",
   "execution_count": null,
   "metadata": {},
   "outputs": [],
   "source": []
  },
  {
   "cell_type": "code",
   "execution_count": null,
   "metadata": {},
   "outputs": [],
   "source": []
  },
  {
   "cell_type": "code",
   "execution_count": null,
   "metadata": {},
   "outputs": [],
   "source": []
  },
  {
   "cell_type": "code",
   "execution_count": null,
   "metadata": {},
   "outputs": [],
   "source": []
  },
  {
   "cell_type": "code",
   "execution_count": null,
   "metadata": {},
   "outputs": [],
   "source": []
  }
 ],
 "metadata": {
  "kernelspec": {
   "display_name": "Python 3",
   "language": "python",
   "name": "python3"
  },
  "language_info": {
   "codemirror_mode": {
    "name": "ipython",
    "version": 3
   },
   "file_extension": ".py",
   "mimetype": "text/x-python",
   "name": "python",
   "nbconvert_exporter": "python",
   "pygments_lexer": "ipython3",
   "version": "3.7.6"
  }
 },
 "nbformat": 4,
 "nbformat_minor": 4
}
