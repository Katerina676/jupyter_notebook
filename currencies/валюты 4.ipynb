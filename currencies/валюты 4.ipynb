{
 "cells": [
  {
   "cell_type": "code",
   "execution_count": 1,
   "metadata": {},
   "outputs": [],
   "source": [
    "import pandas as pd\n",
    "import numpy as np\n",
    "from sklearn.linear_model import LinearRegression\n",
    "import matplotlib.pyplot as plt"
   ]
  },
  {
   "cell_type": "code",
   "execution_count": 2,
   "metadata": {},
   "outputs": [],
   "source": [
    "money = pd.read_csv(\"Downloads/PPPP.csv\", delimiter=\",\")"
   ]
  },
  {
   "cell_type": "code",
   "execution_count": 3,
   "metadata": {},
   "outputs": [],
   "source": [
    "def convert_money(string):\n",
    "    return float(string.replace(\",\", \".\"))"
   ]
  },
  {
   "cell_type": "code",
   "execution_count": 4,
   "metadata": {},
   "outputs": [],
   "source": [
    "money[\"curs\"] = money[\"curs\"].apply(convert_money)"
   ]
  },
  {
   "cell_type": "code",
   "execution_count": 5,
   "metadata": {},
   "outputs": [
    {
     "data": {
      "text/html": [
       "<div>\n",
       "<style scoped>\n",
       "    .dataframe tbody tr th:only-of-type {\n",
       "        vertical-align: middle;\n",
       "    }\n",
       "\n",
       "    .dataframe tbody tr th {\n",
       "        vertical-align: top;\n",
       "    }\n",
       "\n",
       "    .dataframe thead th {\n",
       "        text-align: right;\n",
       "    }\n",
       "</style>\n",
       "<table border=\"1\" class=\"dataframe\">\n",
       "  <thead>\n",
       "    <tr style=\"text-align: right;\">\n",
       "      <th></th>\n",
       "      <th>nominal</th>\n",
       "      <th>data</th>\n",
       "      <th>curs</th>\n",
       "      <th>cdx</th>\n",
       "    </tr>\n",
       "  </thead>\n",
       "  <tbody>\n",
       "    <tr>\n",
       "      <th>0</th>\n",
       "      <td>1</td>\n",
       "      <td>10.01.2019</td>\n",
       "      <td>67.0795</td>\n",
       "      <td>Доллар США</td>\n",
       "    </tr>\n",
       "    <tr>\n",
       "      <th>1</th>\n",
       "      <td>1</td>\n",
       "      <td>11.01.2019</td>\n",
       "      <td>66.8605</td>\n",
       "      <td>Доллар США</td>\n",
       "    </tr>\n",
       "    <tr>\n",
       "      <th>2</th>\n",
       "      <td>1</td>\n",
       "      <td>12.01.2019</td>\n",
       "      <td>66.9167</td>\n",
       "      <td>Доллар США</td>\n",
       "    </tr>\n",
       "  </tbody>\n",
       "</table>\n",
       "</div>"
      ],
      "text/plain": [
       "   nominal        data     curs         cdx\n",
       "0        1  10.01.2019  67.0795  Доллар США\n",
       "1        1  11.01.2019  66.8605  Доллар США\n",
       "2        1  12.01.2019  66.9167  Доллар США"
      ]
     },
     "execution_count": 5,
     "metadata": {},
     "output_type": "execute_result"
    }
   ],
   "source": [
    "money.head(3)"
   ]
  },
  {
   "cell_type": "code",
   "execution_count": 6,
   "metadata": {},
   "outputs": [],
   "source": [
    "curs = money[\"curs\"]"
   ]
  },
  {
   "cell_type": "code",
   "execution_count": 7,
   "metadata": {},
   "outputs": [
    {
     "data": {
      "text/plain": [
       "[<matplotlib.lines.Line2D at 0x14d45dc7248>]"
      ]
     },
     "execution_count": 7,
     "metadata": {},
     "output_type": "execute_result"
    },
    {
     "data": {
      "image/png": "[encoded data removed]",
      "text/plain": [
       "<Figure size 432x288 with 1 Axes>"
      ]
     },
     "metadata": {
      "needs_background": "light"
     },
     "output_type": "display_data"
    }
   ],
   "source": [
    "plt.plot(curs)"
   ]
  },
  {
   "cell_type": "code",
   "execution_count": 8,
   "metadata": {},
   "outputs": [],
   "source": [
    "past = 7 * 4\n",
    "future = 7"
   ]
  },
  {
   "cell_type": "code",
   "execution_count": 9,
   "metadata": {},
   "outputs": [],
   "source": [
    "start = past\n",
    "end = len(curs) - future\n",
    "\n",
    "prepared = []\n",
    "\n",
    "for i in range(start,end):\n",
    "    past_and_future_curs = curs[(i-past):(i+future)]\n",
    "    prepared.append(list(past_and_future_curs))"
   ]
  },
  {
   "cell_type": "code",
   "execution_count": 10,
   "metadata": {},
   "outputs": [],
   "source": [
    "past_columns = [f\"past_{i}\" for i in range(past)]\n",
    "future_columns = [f\"future_{i}\" for i in range(future)]"
   ]
  },
  {
   "cell_type": "code",
   "execution_count": 11,
   "metadata": {},
   "outputs": [
    {
     "data": {
      "text/plain": [
       "['past_0',\n",
       " 'past_1',\n",
       " 'past_2',\n",
       " 'past_3',\n",
       " 'past_4',\n",
       " 'past_5',\n",
       " 'past_6',\n",
       " 'past_7',\n",
       " 'past_8',\n",
       " 'past_9',\n",
       " 'past_10',\n",
       " 'past_11',\n",
       " 'past_12',\n",
       " 'past_13',\n",
       " 'past_14',\n",
       " 'past_15',\n",
       " 'past_16',\n",
       " 'past_17',\n",
       " 'past_18',\n",
       " 'past_19',\n",
       " 'past_20',\n",
       " 'past_21',\n",
       " 'past_22',\n",
       " 'past_23',\n",
       " 'past_24',\n",
       " 'past_25',\n",
       " 'past_26',\n",
       " 'past_27']"
      ]
     },
     "execution_count": 11,
     "metadata": {},
     "output_type": "execute_result"
    }
   ],
   "source": [
    "past_columns"
   ]
  },
  {
   "cell_type": "code",
   "execution_count": 12,
   "metadata": {},
   "outputs": [
    {
     "data": {
      "text/plain": [
       "['future_0',\n",
       " 'future_1',\n",
       " 'future_2',\n",
       " 'future_3',\n",
       " 'future_4',\n",
       " 'future_5',\n",
       " 'future_6']"
      ]
     },
     "execution_count": 12,
     "metadata": {},
     "output_type": "execute_result"
    }
   ],
   "source": [
    "future_columns"
   ]
  },
  {
   "cell_type": "code",
   "execution_count": 13,
   "metadata": {},
   "outputs": [],
   "source": [
    "df = pd.DataFrame(prepared, columns=(past_columns+future_columns))"
   ]
  },
  {
   "cell_type": "code",
   "execution_count": 14,
   "metadata": {},
   "outputs": [
    {
     "data": {
      "text/html": [
       "<div>\n",
       "<style scoped>\n",
       "    .dataframe tbody tr th:only-of-type {\n",
       "        vertical-align: middle;\n",
       "    }\n",
       "\n",
       "    .dataframe tbody tr th {\n",
       "        vertical-align: top;\n",
       "    }\n",
       "\n",
       "    .dataframe thead th {\n",
       "        text-align: right;\n",
       "    }\n",
       "</style>\n",
       "<table border=\"1\" class=\"dataframe\">\n",
       "  <thead>\n",
       "    <tr style=\"text-align: right;\">\n",
       "      <th></th>\n",
       "      <th>past_0</th>\n",
       "      <th>past_1</th>\n",
       "      <th>past_2</th>\n",
       "      <th>past_3</th>\n",
       "      <th>past_4</th>\n",
       "      <th>past_5</th>\n",
       "      <th>past_6</th>\n",
       "      <th>past_7</th>\n",
       "      <th>past_8</th>\n",
       "      <th>past_9</th>\n",
       "      <th>...</th>\n",
       "      <th>past_25</th>\n",
       "      <th>past_26</th>\n",
       "      <th>past_27</th>\n",
       "      <th>future_0</th>\n",
       "      <th>future_1</th>\n",
       "      <th>future_2</th>\n",
       "      <th>future_3</th>\n",
       "      <th>future_4</th>\n",
       "      <th>future_5</th>\n",
       "      <th>future_6</th>\n",
       "    </tr>\n",
       "  </thead>\n",
       "  <tbody>\n",
       "    <tr>\n",
       "      <th>0</th>\n",
       "      <td>67.0795</td>\n",
       "      <td>66.8605</td>\n",
       "      <td>66.9167</td>\n",
       "      <td>67.1920</td>\n",
       "      <td>67.0820</td>\n",
       "      <td>66.7617</td>\n",
       "      <td>66.4438</td>\n",
       "      <td>66.3309</td>\n",
       "      <td>66.3634</td>\n",
       "      <td>66.5499</td>\n",
       "      <td>...</td>\n",
       "      <td>65.6783</td>\n",
       "      <td>66.5429</td>\n",
       "      <td>66.7044</td>\n",
       "      <td>66.2470</td>\n",
       "      <td>66.2022</td>\n",
       "      <td>65.8568</td>\n",
       "      <td>65.5401</td>\n",
       "      <td>65.5149</td>\n",
       "      <td>65.2582</td>\n",
       "      <td>65.6182</td>\n",
       "    </tr>\n",
       "    <tr>\n",
       "      <th>1</th>\n",
       "      <td>66.8605</td>\n",
       "      <td>66.9167</td>\n",
       "      <td>67.1920</td>\n",
       "      <td>67.0820</td>\n",
       "      <td>66.7617</td>\n",
       "      <td>66.4438</td>\n",
       "      <td>66.3309</td>\n",
       "      <td>66.3634</td>\n",
       "      <td>66.5499</td>\n",
       "      <td>66.3318</td>\n",
       "      <td>...</td>\n",
       "      <td>66.5429</td>\n",
       "      <td>66.7044</td>\n",
       "      <td>66.2470</td>\n",
       "      <td>66.2022</td>\n",
       "      <td>65.8568</td>\n",
       "      <td>65.5401</td>\n",
       "      <td>65.5149</td>\n",
       "      <td>65.2582</td>\n",
       "      <td>65.6182</td>\n",
       "      <td>65.7570</td>\n",
       "    </tr>\n",
       "    <tr>\n",
       "      <th>2</th>\n",
       "      <td>66.9167</td>\n",
       "      <td>67.1920</td>\n",
       "      <td>67.0820</td>\n",
       "      <td>66.7617</td>\n",
       "      <td>66.4438</td>\n",
       "      <td>66.3309</td>\n",
       "      <td>66.3634</td>\n",
       "      <td>66.5499</td>\n",
       "      <td>66.3318</td>\n",
       "      <td>66.0016</td>\n",
       "      <td>...</td>\n",
       "      <td>66.7044</td>\n",
       "      <td>66.2470</td>\n",
       "      <td>66.2022</td>\n",
       "      <td>65.8568</td>\n",
       "      <td>65.5401</td>\n",
       "      <td>65.5149</td>\n",
       "      <td>65.2582</td>\n",
       "      <td>65.6182</td>\n",
       "      <td>65.7570</td>\n",
       "      <td>65.8895</td>\n",
       "    </tr>\n",
       "    <tr>\n",
       "      <th>3</th>\n",
       "      <td>67.1920</td>\n",
       "      <td>67.0820</td>\n",
       "      <td>66.7617</td>\n",
       "      <td>66.4438</td>\n",
       "      <td>66.3309</td>\n",
       "      <td>66.3634</td>\n",
       "      <td>66.5499</td>\n",
       "      <td>66.3318</td>\n",
       "      <td>66.0016</td>\n",
       "      <td>65.9170</td>\n",
       "      <td>...</td>\n",
       "      <td>66.2470</td>\n",
       "      <td>66.2022</td>\n",
       "      <td>65.8568</td>\n",
       "      <td>65.5401</td>\n",
       "      <td>65.5149</td>\n",
       "      <td>65.2582</td>\n",
       "      <td>65.6182</td>\n",
       "      <td>65.7570</td>\n",
       "      <td>65.8895</td>\n",
       "      <td>65.8145</td>\n",
       "    </tr>\n",
       "    <tr>\n",
       "      <th>4</th>\n",
       "      <td>67.0820</td>\n",
       "      <td>66.7617</td>\n",
       "      <td>66.4438</td>\n",
       "      <td>66.3309</td>\n",
       "      <td>66.3634</td>\n",
       "      <td>66.5499</td>\n",
       "      <td>66.3318</td>\n",
       "      <td>66.0016</td>\n",
       "      <td>65.9170</td>\n",
       "      <td>65.9300</td>\n",
       "      <td>...</td>\n",
       "      <td>66.2022</td>\n",
       "      <td>65.8568</td>\n",
       "      <td>65.5401</td>\n",
       "      <td>65.5149</td>\n",
       "      <td>65.2582</td>\n",
       "      <td>65.6182</td>\n",
       "      <td>65.7570</td>\n",
       "      <td>65.8895</td>\n",
       "      <td>65.8145</td>\n",
       "      <td>65.7956</td>\n",
       "    </tr>\n",
       "    <tr>\n",
       "      <th>...</th>\n",
       "      <td>...</td>\n",
       "      <td>...</td>\n",
       "      <td>...</td>\n",
       "      <td>...</td>\n",
       "      <td>...</td>\n",
       "      <td>...</td>\n",
       "      <td>...</td>\n",
       "      <td>...</td>\n",
       "      <td>...</td>\n",
       "      <td>...</td>\n",
       "      <td>...</td>\n",
       "      <td>...</td>\n",
       "      <td>...</td>\n",
       "      <td>...</td>\n",
       "      <td>...</td>\n",
       "      <td>...</td>\n",
       "      <td>...</td>\n",
       "      <td>...</td>\n",
       "      <td>...</td>\n",
       "      <td>...</td>\n",
       "      <td>...</td>\n",
       "    </tr>\n",
       "    <tr>\n",
       "      <th>314</th>\n",
       "      <td>77.0416</td>\n",
       "      <td>75.1290</td>\n",
       "      <td>74.7163</td>\n",
       "      <td>74.4960</td>\n",
       "      <td>74.5706</td>\n",
       "      <td>73.6894</td>\n",
       "      <td>72.7263</td>\n",
       "      <td>73.9719</td>\n",
       "      <td>74.1169</td>\n",
       "      <td>73.8725</td>\n",
       "      <td>...</td>\n",
       "      <td>68.9831</td>\n",
       "      <td>68.3413</td>\n",
       "      <td>69.0151</td>\n",
       "      <td>68.6319</td>\n",
       "      <td>68.3123</td>\n",
       "      <td>68.6745</td>\n",
       "      <td>68.6183</td>\n",
       "      <td>69.1219</td>\n",
       "      <td>70.3950</td>\n",
       "      <td>69.7524</td>\n",
       "    </tr>\n",
       "    <tr>\n",
       "      <th>315</th>\n",
       "      <td>75.1290</td>\n",
       "      <td>74.7163</td>\n",
       "      <td>74.4960</td>\n",
       "      <td>74.5706</td>\n",
       "      <td>73.6894</td>\n",
       "      <td>72.7263</td>\n",
       "      <td>73.9719</td>\n",
       "      <td>74.1169</td>\n",
       "      <td>73.8725</td>\n",
       "      <td>73.4326</td>\n",
       "      <td>...</td>\n",
       "      <td>68.3413</td>\n",
       "      <td>69.0151</td>\n",
       "      <td>68.6319</td>\n",
       "      <td>68.3123</td>\n",
       "      <td>68.6745</td>\n",
       "      <td>68.6183</td>\n",
       "      <td>69.1219</td>\n",
       "      <td>70.3950</td>\n",
       "      <td>69.7524</td>\n",
       "      <td>69.4822</td>\n",
       "    </tr>\n",
       "    <tr>\n",
       "      <th>316</th>\n",
       "      <td>74.7163</td>\n",
       "      <td>74.4960</td>\n",
       "      <td>74.5706</td>\n",
       "      <td>73.6894</td>\n",
       "      <td>72.7263</td>\n",
       "      <td>73.9719</td>\n",
       "      <td>74.1169</td>\n",
       "      <td>73.8725</td>\n",
       "      <td>73.4326</td>\n",
       "      <td>73.5819</td>\n",
       "      <td>...</td>\n",
       "      <td>69.0151</td>\n",
       "      <td>68.6319</td>\n",
       "      <td>68.3123</td>\n",
       "      <td>68.6745</td>\n",
       "      <td>68.6183</td>\n",
       "      <td>69.1219</td>\n",
       "      <td>70.3950</td>\n",
       "      <td>69.7524</td>\n",
       "      <td>69.4822</td>\n",
       "      <td>69.6180</td>\n",
       "    </tr>\n",
       "    <tr>\n",
       "      <th>317</th>\n",
       "      <td>74.4960</td>\n",
       "      <td>74.5706</td>\n",
       "      <td>73.6894</td>\n",
       "      <td>72.7263</td>\n",
       "      <td>73.9719</td>\n",
       "      <td>74.1169</td>\n",
       "      <td>73.8725</td>\n",
       "      <td>73.4326</td>\n",
       "      <td>73.5819</td>\n",
       "      <td>73.9298</td>\n",
       "      <td>...</td>\n",
       "      <td>68.6319</td>\n",
       "      <td>68.3123</td>\n",
       "      <td>68.6745</td>\n",
       "      <td>68.6183</td>\n",
       "      <td>69.1219</td>\n",
       "      <td>70.3950</td>\n",
       "      <td>69.7524</td>\n",
       "      <td>69.4822</td>\n",
       "      <td>69.6180</td>\n",
       "      <td>69.5725</td>\n",
       "    </tr>\n",
       "    <tr>\n",
       "      <th>318</th>\n",
       "      <td>74.5706</td>\n",
       "      <td>73.6894</td>\n",
       "      <td>72.7263</td>\n",
       "      <td>73.9719</td>\n",
       "      <td>74.1169</td>\n",
       "      <td>73.8725</td>\n",
       "      <td>73.4326</td>\n",
       "      <td>73.5819</td>\n",
       "      <td>73.9298</td>\n",
       "      <td>73.2056</td>\n",
       "      <td>...</td>\n",
       "      <td>68.3123</td>\n",
       "      <td>68.6745</td>\n",
       "      <td>68.6183</td>\n",
       "      <td>69.1219</td>\n",
       "      <td>70.3950</td>\n",
       "      <td>69.7524</td>\n",
       "      <td>69.4822</td>\n",
       "      <td>69.6180</td>\n",
       "      <td>69.5725</td>\n",
       "      <td>69.4835</td>\n",
       "    </tr>\n",
       "  </tbody>\n",
       "</table>\n",
       "<p>319 rows × 35 columns</p>\n",
       "</div>"
      ],
      "text/plain": [
       "      past_0   past_1   past_2   past_3   past_4   past_5   past_6   past_7  \\\n",
       "0    67.0795  66.8605  66.9167  67.1920  67.0820  66.7617  66.4438  66.3309   \n",
       "1    66.8605  66.9167  67.1920  67.0820  66.7617  66.4438  66.3309  66.3634   \n",
       "2    66.9167  67.1920  67.0820  66.7617  66.4438  66.3309  66.3634  66.5499   \n",
       "3    67.1920  67.0820  66.7617  66.4438  66.3309  66.3634  66.5499  66.3318   \n",
       "4    67.0820  66.7617  66.4438  66.3309  66.3634  66.5499  66.3318  66.0016   \n",
       "..       ...      ...      ...      ...      ...      ...      ...      ...   \n",
       "314  77.0416  75.1290  74.7163  74.4960  74.5706  73.6894  72.7263  73.9719   \n",
       "315  75.1290  74.7163  74.4960  74.5706  73.6894  72.7263  73.9719  74.1169   \n",
       "316  74.7163  74.4960  74.5706  73.6894  72.7263  73.9719  74.1169  73.8725   \n",
       "317  74.4960  74.5706  73.6894  72.7263  73.9719  74.1169  73.8725  73.4326   \n",
       "318  74.5706  73.6894  72.7263  73.9719  74.1169  73.8725  73.4326  73.5819   \n",
       "\n",
       "      past_8   past_9  ...  past_25  past_26  past_27  future_0  future_1  \\\n",
       "0    66.3634  66.5499  ...  65.6783  66.5429  66.7044   66.2470   66.2022   \n",
       "1    66.5499  66.3318  ...  66.5429  66.7044  66.2470   66.2022   65.8568   \n",
       "2    66.3318  66.0016  ...  66.7044  66.2470  66.2022   65.8568   65.5401   \n",
       "3    66.0016  65.9170  ...  66.2470  66.2022  65.8568   65.5401   65.5149   \n",
       "4    65.9170  65.9300  ...  66.2022  65.8568  65.5401   65.5149   65.2582   \n",
       "..       ...      ...  ...      ...      ...      ...       ...       ...   \n",
       "314  74.1169  73.8725  ...  68.9831  68.3413  69.0151   68.6319   68.3123   \n",
       "315  73.8725  73.4326  ...  68.3413  69.0151  68.6319   68.3123   68.6745   \n",
       "316  73.4326  73.5819  ...  69.0151  68.6319  68.3123   68.6745   68.6183   \n",
       "317  73.5819  73.9298  ...  68.6319  68.3123  68.6745   68.6183   69.1219   \n",
       "318  73.9298  73.2056  ...  68.3123  68.6745  68.6183   69.1219   70.3950   \n",
       "\n",
       "     future_2  future_3  future_4  future_5  future_6  \n",
       "0     65.8568   65.5401   65.5149   65.2582   65.6182  \n",
       "1     65.5401   65.5149   65.2582   65.6182   65.7570  \n",
       "2     65.5149   65.2582   65.6182   65.7570   65.8895  \n",
       "3     65.2582   65.6182   65.7570   65.8895   65.8145  \n",
       "4     65.6182   65.7570   65.8895   65.8145   65.7956  \n",
       "..        ...       ...       ...       ...       ...  \n",
       "314   68.6745   68.6183   69.1219   70.3950   69.7524  \n",
       "315   68.6183   69.1219   70.3950   69.7524   69.4822  \n",
       "316   69.1219   70.3950   69.7524   69.4822   69.6180  \n",
       "317   70.3950   69.7524   69.4822   69.6180   69.5725  \n",
       "318   69.7524   69.4822   69.6180   69.5725   69.4835  \n",
       "\n",
       "[319 rows x 35 columns]"
      ]
     },
     "execution_count": 14,
     "metadata": {},
     "output_type": "execute_result"
    }
   ],
   "source": [
    "df"
   ]
  },
  {
   "cell_type": "code",
   "execution_count": 15,
   "metadata": {},
   "outputs": [],
   "source": [
    "LinReg = LinearRegression()"
   ]
  },
  {
   "cell_type": "code",
   "execution_count": 16,
   "metadata": {},
   "outputs": [],
   "source": [
    "X = df[past_columns][:-1]\n",
    "y = df[future_columns][:-1]"
   ]
  },
  {
   "cell_type": "code",
   "execution_count": 17,
   "metadata": {},
   "outputs": [],
   "source": [
    "X_test = df[past_columns][-1:]\n",
    "y_test = df[future_columns][-1:]\n"
   ]
  },
  {
   "cell_type": "code",
   "execution_count": 18,
   "metadata": {},
   "outputs": [
    {
     "data": {
      "text/html": [
       "<div>\n",
       "<style scoped>\n",
       "    .dataframe tbody tr th:only-of-type {\n",
       "        vertical-align: middle;\n",
       "    }\n",
       "\n",
       "    .dataframe tbody tr th {\n",
       "        vertical-align: top;\n",
       "    }\n",
       "\n",
       "    .dataframe thead th {\n",
       "        text-align: right;\n",
       "    }\n",
       "</style>\n",
       "<table border=\"1\" class=\"dataframe\">\n",
       "  <thead>\n",
       "    <tr style=\"text-align: right;\">\n",
       "      <th></th>\n",
       "      <th>past_0</th>\n",
       "      <th>past_1</th>\n",
       "      <th>past_2</th>\n",
       "      <th>past_3</th>\n",
       "      <th>past_4</th>\n",
       "      <th>past_5</th>\n",
       "      <th>past_6</th>\n",
       "      <th>past_7</th>\n",
       "      <th>past_8</th>\n",
       "      <th>past_9</th>\n",
       "      <th>...</th>\n",
       "      <th>past_18</th>\n",
       "      <th>past_19</th>\n",
       "      <th>past_20</th>\n",
       "      <th>past_21</th>\n",
       "      <th>past_22</th>\n",
       "      <th>past_23</th>\n",
       "      <th>past_24</th>\n",
       "      <th>past_25</th>\n",
       "      <th>past_26</th>\n",
       "      <th>past_27</th>\n",
       "    </tr>\n",
       "  </thead>\n",
       "  <tbody>\n",
       "    <tr>\n",
       "      <th>318</th>\n",
       "      <td>74.5706</td>\n",
       "      <td>73.6894</td>\n",
       "      <td>72.7263</td>\n",
       "      <td>73.9719</td>\n",
       "      <td>74.1169</td>\n",
       "      <td>73.8725</td>\n",
       "      <td>73.4326</td>\n",
       "      <td>73.5819</td>\n",
       "      <td>73.9298</td>\n",
       "      <td>73.2056</td>\n",
       "      <td>...</td>\n",
       "      <td>71.1012</td>\n",
       "      <td>70.752</td>\n",
       "      <td>69.7114</td>\n",
       "      <td>68.9831</td>\n",
       "      <td>68.3413</td>\n",
       "      <td>69.0151</td>\n",
       "      <td>68.6319</td>\n",
       "      <td>68.3123</td>\n",
       "      <td>68.6745</td>\n",
       "      <td>68.6183</td>\n",
       "    </tr>\n",
       "  </tbody>\n",
       "</table>\n",
       "<p>1 rows × 28 columns</p>\n",
       "</div>"
      ],
      "text/plain": [
       "      past_0   past_1   past_2   past_3   past_4   past_5   past_6   past_7  \\\n",
       "318  74.5706  73.6894  72.7263  73.9719  74.1169  73.8725  73.4326  73.5819   \n",
       "\n",
       "      past_8   past_9  ...  past_18  past_19  past_20  past_21  past_22  \\\n",
       "318  73.9298  73.2056  ...  71.1012   70.752  69.7114  68.9831  68.3413   \n",
       "\n",
       "     past_23  past_24  past_25  past_26  past_27  \n",
       "318  69.0151  68.6319  68.3123  68.6745  68.6183  \n",
       "\n",
       "[1 rows x 28 columns]"
      ]
     },
     "execution_count": 18,
     "metadata": {},
     "output_type": "execute_result"
    }
   ],
   "source": [
    "X_test"
   ]
  },
  {
   "cell_type": "code",
   "execution_count": 19,
   "metadata": {},
   "outputs": [
    {
     "data": {
      "text/plain": [
       "LinearRegression()"
      ]
     },
     "execution_count": 19,
     "metadata": {},
     "output_type": "execute_result"
    }
   ],
   "source": [
    "LinReg.fit(X,y)"
   ]
  },
  {
   "cell_type": "code",
   "execution_count": 20,
   "metadata": {},
   "outputs": [],
   "source": [
    "prediction = LinReg.predict(X_test)"
   ]
  },
  {
   "cell_type": "raw",
   "metadata": {},
   "source": []
  },
  {
   "cell_type": "code",
   "execution_count": 21,
   "metadata": {},
   "outputs": [
    {
     "data": {
      "text/plain": [
       "array([[68.14893273, 67.79970533, 68.13547495, 67.87528989, 67.87906567,\n",
       "        67.68955618, 67.54623347]])"
      ]
     },
     "execution_count": 21,
     "metadata": {},
     "output_type": "execute_result"
    }
   ],
   "source": [
    "prediction"
   ]
  },
  {
   "cell_type": "code",
   "execution_count": 22,
   "metadata": {},
   "outputs": [
    {
     "data": {
      "text/html": [
       "<div>\n",
       "<style scoped>\n",
       "    .dataframe tbody tr th:only-of-type {\n",
       "        vertical-align: middle;\n",
       "    }\n",
       "\n",
       "    .dataframe tbody tr th {\n",
       "        vertical-align: top;\n",
       "    }\n",
       "\n",
       "    .dataframe thead th {\n",
       "        text-align: right;\n",
       "    }\n",
       "</style>\n",
       "<table border=\"1\" class=\"dataframe\">\n",
       "  <thead>\n",
       "    <tr style=\"text-align: right;\">\n",
       "      <th></th>\n",
       "      <th>future_0</th>\n",
       "      <th>future_1</th>\n",
       "      <th>future_2</th>\n",
       "      <th>future_3</th>\n",
       "      <th>future_4</th>\n",
       "      <th>future_5</th>\n",
       "      <th>future_6</th>\n",
       "    </tr>\n",
       "  </thead>\n",
       "  <tbody>\n",
       "    <tr>\n",
       "      <th>318</th>\n",
       "      <td>69.1219</td>\n",
       "      <td>70.395</td>\n",
       "      <td>69.7524</td>\n",
       "      <td>69.4822</td>\n",
       "      <td>69.618</td>\n",
       "      <td>69.5725</td>\n",
       "      <td>69.4835</td>\n",
       "    </tr>\n",
       "  </tbody>\n",
       "</table>\n",
       "</div>"
      ],
      "text/plain": [
       "     future_0  future_1  future_2  future_3  future_4  future_5  future_6\n",
       "318   69.1219    70.395   69.7524   69.4822    69.618   69.5725   69.4835"
      ]
     },
     "execution_count": 22,
     "metadata": {},
     "output_type": "execute_result"
    }
   ],
   "source": [
    "y_test"
   ]
  },
  {
   "cell_type": "code",
   "execution_count": 23,
   "metadata": {},
   "outputs": [
    {
     "data": {
      "text/plain": [
       "4.8167621996385375"
      ]
     },
     "execution_count": 23,
     "metadata": {},
     "output_type": "execute_result"
    }
   ],
   "source": [
    "np.linalg.norm(y_test - prediction)"
   ]
  },
  {
   "cell_type": "code",
   "execution_count": 24,
   "metadata": {},
   "outputs": [],
   "source": [
    "from sklearn.metrics import mean_absolute_error"
   ]
  },
  {
   "cell_type": "code",
   "execution_count": 25,
   "metadata": {},
   "outputs": [
    {
     "data": {
      "text/plain": [
       "1.764463111194587"
      ]
     },
     "execution_count": 25,
     "metadata": {},
     "output_type": "execute_result"
    }
   ],
   "source": [
    "mean_absolute_error(y_test, prediction)"
   ]
  },
  {
   "cell_type": "code",
   "execution_count": 26,
   "metadata": {},
   "outputs": [
    {
     "data": {
      "text/plain": [
       "<matplotlib.legend.Legend at 0x14d4a6c0608>"
      ]
     },
     "execution_count": 26,
     "metadata": {},
     "output_type": "execute_result"
    },
    {
     "data": {
      "image/png": "[encoded data removed]",
      "text/plain": [
       "<Figure size 432x288 with 1 Axes>"
      ]
     },
     "metadata": {
      "needs_background": "light"
     },
     "output_type": "display_data"
    }
   ],
   "source": [
    "plt.plot(prediction[0], label=\"prediction\")\n",
    "plt.plot(y_test.iloc[0], label=\"real\")\n",
    "plt.legend()"
   ]
  },
  {
   "cell_type": "code",
   "execution_count": 27,
   "metadata": {},
   "outputs": [],
   "source": [
    "from sklearn.neural_network import MLPRegressor"
   ]
  },
  {
   "cell_type": "code",
   "execution_count": 28,
   "metadata": {},
   "outputs": [],
   "source": [
    "MLP = MLPRegressor(random_state=42, max_iter=500, hidden_layer_sizes=(30,40))"
   ]
  },
  {
   "cell_type": "code",
   "execution_count": 29,
   "metadata": {},
   "outputs": [
    {
     "name": "stderr",
     "output_type": "stream",
     "text": [
      "D:\\aa\\lib\\site-packages\\sklearn\\neural_network\\_multilayer_perceptron.py:585: ConvergenceWarning: Stochastic Optimizer: Maximum iterations (500) reached and the optimization hasn't converged yet.\n",
      "  % self.max_iter, ConvergenceWarning)\n"
     ]
    },
    {
     "data": {
      "text/plain": [
       "MLPRegressor(hidden_layer_sizes=(30, 40), max_iter=500, random_state=42)"
      ]
     },
     "execution_count": 29,
     "metadata": {},
     "output_type": "execute_result"
    }
   ],
   "source": [
    "MLP.fit(X,y)"
   ]
  },
  {
   "cell_type": "code",
   "execution_count": 30,
   "metadata": {},
   "outputs": [],
   "source": [
    "prediction = MLP.predict(X_test)"
   ]
  },
  {
   "cell_type": "code",
   "execution_count": 31,
   "metadata": {},
   "outputs": [
    {
     "name": "stdout",
     "output_type": "stream",
     "text": [
      "np.linalg.norm(y_test - prediction) 4.792938209182382\n",
      "mean_absolute_error 1.7194553406264939\n"
     ]
    }
   ],
   "source": [
    "print(\"np.linalg.norm(y_test - prediction)\", np.linalg.norm(y_test - prediction))\n",
    "print(\"mean_absolute_error\", mean_absolute_error(y_test, prediction))"
   ]
  },
  {
   "cell_type": "code",
   "execution_count": 32,
   "metadata": {},
   "outputs": [],
   "source": [
    "from sklearn import svm, datasets\n",
    "from sklearn.model_selection import GridSearchCV"
   ]
  },
  {
   "cell_type": "code",
   "execution_count": 33,
   "metadata": {},
   "outputs": [],
   "source": [
    "import warnings; warnings.simplefilter('ignore')"
   ]
  },
  {
   "cell_type": "code",
   "execution_count": 35,
   "metadata": {},
   "outputs": [],
   "source": [
    "GS = GridSearchCV(MLPRegressor(random_state=42), {\n",
    "    'activation': ['identity', 'logistic', 'tanh', 'relu'],\n",
    "    'max_iter': [10, 100, 500],\n",
    "    'hidden_layer_sizes': [(10, 10),(50, 50, 50), (100, 100, 100)],\n",
    "}, scoring ='neg_mean_absolute_error')"
   ]
  },
  {
   "cell_type": "code",
   "execution_count": 36,
   "metadata": {},
   "outputs": [
    {
     "data": {
      "text/plain": [
       "GridSearchCV(estimator=MLPRegressor(random_state=42),\n",
       "             param_grid={'activation': ['identity', 'logistic', 'tanh', 'relu'],\n",
       "                         'hidden_layer_sizes': [(10, 10), (50, 50, 50),\n",
       "                                                (100, 100, 100)],\n",
       "                         'max_iter': [10, 100, 500]},\n",
       "             scoring='neg_mean_absolute_error')"
      ]
     },
     "execution_count": 36,
     "metadata": {},
     "output_type": "execute_result"
    }
   ],
   "source": [
    "GS.fit(X,y)"
   ]
  },
  {
   "cell_type": "code",
   "execution_count": 38,
   "metadata": {},
   "outputs": [
    {
     "data": {
      "text/plain": [
       "{'activation': 'identity',\n",
       " 'hidden_layer_sizes': (100, 100, 100),\n",
       " 'max_iter': 100}"
      ]
     },
     "execution_count": 38,
     "metadata": {},
     "output_type": "execute_result"
    }
   ],
   "source": [
    "GS.best_params_"
   ]
  },
  {
   "cell_type": "code",
   "execution_count": 39,
   "metadata": {},
   "outputs": [
    {
     "data": {
      "text/plain": [
       "-1.36984588407305"
      ]
     },
     "execution_count": 39,
     "metadata": {},
     "output_type": "execute_result"
    }
   ],
   "source": [
    "GS.best_score_"
   ]
  },
  {
   "cell_type": "code",
   "execution_count": 40,
   "metadata": {},
   "outputs": [
    {
     "data": {
      "text/plain": [
       "MLPRegressor(activation='identity', hidden_layer_sizes=(100, 100, 100),\n",
       "             max_iter=100, random_state=42)"
      ]
     },
     "execution_count": 40,
     "metadata": {},
     "output_type": "execute_result"
    }
   ],
   "source": [
    "GS.best_estimator_"
   ]
  },
  {
   "cell_type": "code",
   "execution_count": 41,
   "metadata": {},
   "outputs": [],
   "source": [
    "prediction = GS.best_estimator_.predict(X_test)"
   ]
  },
  {
   "cell_type": "code",
   "execution_count": 42,
   "metadata": {},
   "outputs": [
    {
     "data": {
      "text/plain": [
       "0.7872139799105408"
      ]
     },
     "execution_count": 42,
     "metadata": {},
     "output_type": "execute_result"
    }
   ],
   "source": [
    "mean_absolute_error(y_test, prediction)"
   ]
  },
  {
   "cell_type": "code",
   "execution_count": null,
   "metadata": {},
   "outputs": [],
   "source": []
  },
  {
   "cell_type": "code",
   "execution_count": null,
   "metadata": {},
   "outputs": [],
   "source": []
  }
 ],
 "metadata": {
  "kernelspec": {
   "display_name": "Python 3",
   "language": "python",
   "name": "python3"
  },
  "language_info": {
   "codemirror_mode": {
    "name": "ipython",
    "version": 3
   },
   "file_extension": ".py",
   "mimetype": "text/x-python",
   "name": "python",
   "nbconvert_exporter": "python",
   "pygments_lexer": "ipython3",
   "version": "3.7.6"
  }
 },
 "nbformat": 4,
 "nbformat_minor": 4
}
