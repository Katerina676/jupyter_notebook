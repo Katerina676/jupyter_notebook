{
 "cells": [
  {
   "cell_type": "code",
   "execution_count": 1,
   "metadata": {},
   "outputs": [],
   "source": [
    "import random\n",
    "import nltk"
   ]
  },
  {
   "cell_type": "code",
   "execution_count": 2,
   "metadata": {},
   "outputs": [],
   "source": [
    "BOT_CONFIG = {\n",
    "    'intents':{\n",
    "        'hello':{\n",
    "            'examples':['Привет', 'Добрый день!', 'Здравствуйте', 'Хеллоу'],\n",
    "            'responses':['Приветик', 'Здароу']\n",
    "        },\n",
    "        'goodbye':{\n",
    "            'examples':['Пока', 'До свидания', 'Всего доброго', 'Гудбай'],\n",
    "            'responses':['Покеда', 'Счастливо']\n",
    "        },\n",
    "        'thanks':{\n",
    "            'examples':['Спасибо', 'Сенкс', 'Спасибо большое', 'Благодарю'],\n",
    "            'responses':['Спасибки', 'thks']\n",
    "        },\n",
    "        'whatcanyoudo':{\n",
    "            'examples':['Что ты умеешь', 'Расскажи что можешь сделать'],\n",
    "            'responses':['Пиши мне', 'Просто живу']\n",
    "        },\n",
    "        'name':{\n",
    "            'examples':['Как твое имя', 'Как тебя зовут'],\n",
    "            'responses':['Бот', 'Меня зовут Бот']\n",
    "        },\n",
    "        'weather':{\n",
    "            'examples':['Как погода?', 'Как погода в Москве?'],\n",
    "            'responses':['Солнечно', 'Ясно']\n",
    "        }    \n",
    "},\n",
    "    'failure_phrases':[\n",
    "        'Я не знаю что ответить',\n",
    "        'Не поняла',\n",
    "        'Простите,еще раз'\n",
    "         \n",
    "    ]\n",
    "}"
   ]
  },
  {
   "cell_type": "code",
   "execution_count": 3,
   "metadata": {},
   "outputs": [
    {
     "name": "stdout",
     "output_type": "stream",
     "text": [
      "[['Привет', 'hello'], ['Добрый день!', 'hello'], ['Здравствуйте', 'hello'], ['Хеллоу', 'hello'], ['Пока', 'goodbye'], ['До свидания', 'goodbye'], ['Всего доброго', 'goodbye'], ['Гудбай', 'goodbye'], ['Спасибо', 'thanks'], ['Сенкс', 'thanks'], ['Спасибо большое', 'thanks'], ['Благодарю', 'thanks'], ['Что ты умеешь', 'whatcanyoudo'], ['Расскажи что можешь сделать', 'whatcanyoudo'], ['Как твое имя', 'name'], ['Как тебя зовут', 'name'], ['Как погода?', 'weather'], ['Как погода в Москве?', 'weather']]\n"
     ]
    }
   ],
   "source": [
    "dataset = []\n",
    "for intent, intent_data in BOT_CONFIG['intents'].items():\n",
    "    for example in intent_data['examples']:\n",
    "        dataset.append([example, intent])\n",
    "        \n",
    "print(dataset)    "
   ]
  },
  {
   "cell_type": "code",
   "execution_count": 4,
   "metadata": {},
   "outputs": [
    {
     "name": "stdout",
     "output_type": "stream",
     "text": [
      "['Привет', 'Добрый день!', 'Здравствуйте', 'Хеллоу', 'Пока', 'До свидания', 'Всего доброго', 'Гудбай', 'Спасибо', 'Сенкс', 'Спасибо большое', 'Благодарю', 'Что ты умеешь', 'Расскажи что можешь сделать', 'Как твое имя', 'Как тебя зовут', 'Как погода?', 'Как погода в Москве?']\n",
      "['hello', 'hello', 'hello', 'hello', 'goodbye', 'goodbye', 'goodbye', 'goodbye', 'thanks', 'thanks', 'thanks', 'thanks', 'whatcanyoudo', 'whatcanyoudo', 'name', 'name', 'weather', 'weather']\n"
     ]
    }
   ],
   "source": [
    "X_test = [x for x, y in dataset]\n",
    "y = [y for x, y in dataset]\n",
    "print(X_test)\n",
    "print(y)"
   ]
  },
  {
   "cell_type": "code",
   "execution_count": 5,
   "metadata": {},
   "outputs": [],
   "source": [
    "from sklearn.feature_extraction.text import CountVectorizer, TfidfVectorizer"
   ]
  },
  {
   "cell_type": "code",
   "execution_count": 6,
   "metadata": {},
   "outputs": [
    {
     "name": "stdout",
     "output_type": "stream",
     "text": [
      "['благодарю', 'большое', 'всего', 'гудбай', 'день', 'до', 'доброго', 'добрый', 'здравствуйте', 'зовут', 'имя', 'как', 'можешь', 'москве', 'погода', 'пока', 'привет', 'расскажи', 'свидания', 'сделать', 'сенкс', 'спасибо', 'твое', 'тебя', 'ты', 'умеешь', 'хеллоу', 'что']\n",
      "[[0 0 0 0 0 0 0 0 0 0 0 0 0 0 0 0 1 0 0 0 0 0 0 0 0 0 0 0]\n",
      " [0 0 0 0 1 0 0 1 0 0 0 0 0 0 0 0 0 0 0 0 0 0 0 0 0 0 0 0]\n",
      " [0 0 0 0 0 0 0 0 1 0 0 0 0 0 0 0 0 0 0 0 0 0 0 0 0 0 0 0]\n",
      " [0 0 0 0 0 0 0 0 0 0 0 0 0 0 0 0 0 0 0 0 0 0 0 0 0 0 1 0]\n",
      " [0 0 0 0 0 0 0 0 0 0 0 0 0 0 0 1 0 0 0 0 0 0 0 0 0 0 0 0]\n",
      " [0 0 0 0 0 1 0 0 0 0 0 0 0 0 0 0 0 0 1 0 0 0 0 0 0 0 0 0]\n",
      " [0 0 1 0 0 0 1 0 0 0 0 0 0 0 0 0 0 0 0 0 0 0 0 0 0 0 0 0]\n",
      " [0 0 0 1 0 0 0 0 0 0 0 0 0 0 0 0 0 0 0 0 0 0 0 0 0 0 0 0]\n",
      " [0 0 0 0 0 0 0 0 0 0 0 0 0 0 0 0 0 0 0 0 0 1 0 0 0 0 0 0]\n",
      " [0 0 0 0 0 0 0 0 0 0 0 0 0 0 0 0 0 0 0 0 1 0 0 0 0 0 0 0]\n",
      " [0 1 0 0 0 0 0 0 0 0 0 0 0 0 0 0 0 0 0 0 0 1 0 0 0 0 0 0]\n",
      " [1 0 0 0 0 0 0 0 0 0 0 0 0 0 0 0 0 0 0 0 0 0 0 0 0 0 0 0]\n",
      " [0 0 0 0 0 0 0 0 0 0 0 0 0 0 0 0 0 0 0 0 0 0 0 0 1 1 0 1]\n",
      " [0 0 0 0 0 0 0 0 0 0 0 0 1 0 0 0 0 1 0 1 0 0 0 0 0 0 0 1]\n",
      " [0 0 0 0 0 0 0 0 0 0 1 1 0 0 0 0 0 0 0 0 0 0 1 0 0 0 0 0]\n",
      " [0 0 0 0 0 0 0 0 0 1 0 1 0 0 0 0 0 0 0 0 0 0 0 1 0 0 0 0]\n",
      " [0 0 0 0 0 0 0 0 0 0 0 1 0 0 1 0 0 0 0 0 0 0 0 0 0 0 0 0]\n",
      " [0 0 0 0 0 0 0 0 0 0 0 1 0 1 1 0 0 0 0 0 0 0 0 0 0 0 0 0]]\n"
     ]
    }
   ],
   "source": [
    "vectorizer = CountVectorizer()\n",
    "X = vectorizer.fit_transform(X_test)\n",
    "print(vectorizer.get_feature_names())\n",
    "['and', 'document', 'first', 'is', 'one', 'second', 'the', 'third', 'this']\n",
    "print(X.toarray())"
   ]
  },
  {
   "cell_type": "code",
   "execution_count": 8,
   "metadata": {},
   "outputs": [],
   "source": [
    "from sklearn.linear_model import LogisticRegression"
   ]
  },
  {
   "cell_type": "code",
   "execution_count": 9,
   "metadata": {},
   "outputs": [],
   "source": [
    "clf = LogisticRegression(random_state=0).fit(X,y)"
   ]
  },
  {
   "cell_type": "code",
   "execution_count": 11,
   "metadata": {},
   "outputs": [
    {
     "data": {
      "text/plain": [
       "array(['goodbye', 'hello', 'name', 'thanks', 'weather', 'whatcanyoudo'],\n",
       "      dtype='<U12')"
      ]
     },
     "execution_count": 11,
     "metadata": {},
     "output_type": "execute_result"
    }
   ],
   "source": [
    "clf.classes_"
   ]
  },
  {
   "cell_type": "code",
   "execution_count": 52,
   "metadata": {},
   "outputs": [
    {
     "name": "stdout",
     "output_type": "stream",
     "text": [
      "[[0 0 0 0 0 0 0 0 0 0 0 0 0 0 0 0 1 0 0 0 0 0 0 0 0 0 0 0]\n",
      " [0 0 0 0 0 1 0 0 0 0 0 0 0 0 0 0 0 0 0 0 0 0 0 0 0 0 0 0]]\n"
     ]
    },
    {
     "data": {
      "text/plain": [
       "array(['hello', 'hello', 'hello', 'hello', 'goodbye', 'goodbye',\n",
       "       'goodbye', 'goodbye', 'thanks', 'thanks', 'thanks', 'thanks',\n",
       "       'whatcanyoudo', 'whatcanyoudo', 'name', 'name', 'weather',\n",
       "       'weather'], dtype='<U12')"
      ]
     },
     "execution_count": 52,
     "metadata": {},
     "output_type": "execute_result"
    }
   ],
   "source": [
    "v = vectorizer.transform(['Привет :)' , 'до свидос'])\n",
    "print(v.toarray())\n",
    "clf.predict(X)"
   ]
  },
  {
   "cell_type": "code",
   "execution_count": 21,
   "metadata": {},
   "outputs": [
    {
     "data": {
      "text/plain": [
       "array([[0.19116872, 0.43266677, 0.06438339, 0.18518959, 0.06101548,\n",
       "        0.06557605],\n",
       "       [0.38404382, 0.21687802, 0.06737739, 0.19924609, 0.06381442,\n",
       "        0.06864026]])"
      ]
     },
     "execution_count": 21,
     "metadata": {},
     "output_type": "execute_result"
    }
   ],
   "source": [
    "clf.predict_proba(v)"
   ]
  },
  {
   "cell_type": "code",
   "execution_count": 22,
   "metadata": {},
   "outputs": [],
   "source": [
    "from sklearn.svm import SVC"
   ]
  },
  {
   "cell_type": "code",
   "execution_count": 24,
   "metadata": {},
   "outputs": [
    {
     "data": {
      "text/plain": [
       "SVC(probability=True)"
      ]
     },
     "execution_count": 24,
     "metadata": {},
     "output_type": "execute_result"
    }
   ],
   "source": [
    "clf1 = SVC(probability=True)\n",
    "clf1.fit(X,y)"
   ]
  },
  {
   "cell_type": "code",
   "execution_count": 25,
   "metadata": {},
   "outputs": [
    {
     "name": "stdout",
     "output_type": "stream",
     "text": [
      "[[0 0 0 0 0 0 0 0 0 0 0 0 0 0 0 0 1 0 0 0 0 0 0 0 0 0 0 0]\n",
      " [0 0 0 0 0 1 0 0 0 0 0 0 0 0 0 0 0 0 0 0 0 0 0 0 0 0 0 0]]\n"
     ]
    },
    {
     "data": {
      "text/plain": [
       "array(['hello', 'goodbye'], dtype='<U12')"
      ]
     },
     "execution_count": 25,
     "metadata": {},
     "output_type": "execute_result"
    }
   ],
   "source": [
    "v = vectorizer.transform(['Привет :)' , 'до свидос'])\n",
    "print(v.toarray())\n",
    "clf1.predict(v)"
   ]
  },
  {
   "cell_type": "code",
   "execution_count": 26,
   "metadata": {},
   "outputs": [
    {
     "data": {
      "text/plain": [
       "array([[0.27594021, 0.11827874, 0.18344248, 0.22290836, 0.06500794,\n",
       "        0.13442227],\n",
       "       [0.10706369, 0.31093912, 0.17531867, 0.21407674, 0.06564824,\n",
       "        0.12695354]])"
      ]
     },
     "execution_count": 26,
     "metadata": {},
     "output_type": "execute_result"
    }
   ],
   "source": [
    "clf1.predict_proba(v)"
   ]
  },
  {
   "cell_type": "code",
   "execution_count": 27,
   "metadata": {},
   "outputs": [],
   "source": [
    "from sklearn.model_selection import train_test_split"
   ]
  },
  {
   "cell_type": "code",
   "execution_count": 28,
   "metadata": {},
   "outputs": [],
   "source": [
    "X_train, X_test, y_train, y_test = train_test_split(X, y, test_size=0.3)"
   ]
  },
  {
   "cell_type": "code",
   "execution_count": 29,
   "metadata": {},
   "outputs": [
    {
     "data": {
      "text/plain": [
       "(<12x28 sparse matrix of type '<class 'numpy.int64'>'\n",
       " \twith 23 stored elements in Compressed Sparse Row format>,\n",
       " <6x28 sparse matrix of type '<class 'numpy.int64'>'\n",
       " \twith 11 stored elements in Compressed Sparse Row format>,\n",
       " ['weather',\n",
       "  'hello',\n",
       "  'goodbye',\n",
       "  'goodbye',\n",
       "  'thanks',\n",
       "  'goodbye',\n",
       "  'hello',\n",
       "  'hello',\n",
       "  'name',\n",
       "  'whatcanyoudo',\n",
       "  'weather',\n",
       "  'goodbye'],\n",
       " ['thanks', 'hello', 'thanks', 'name', 'whatcanyoudo', 'thanks'])"
      ]
     },
     "execution_count": 29,
     "metadata": {},
     "output_type": "execute_result"
    }
   ],
   "source": [
    "X_train, X_test, y_train, y_test"
   ]
  },
  {
   "cell_type": "code",
   "execution_count": 44,
   "metadata": {},
   "outputs": [
    {
     "data": {
      "text/plain": [
       "SVC(probability=True)"
      ]
     },
     "execution_count": 44,
     "metadata": {},
     "output_type": "execute_result"
    }
   ],
   "source": [
    "clf1 = SVC(probability=True)\n",
    "clf1.fit(X_train, y_train)"
   ]
  },
  {
   "cell_type": "code",
   "execution_count": 45,
   "metadata": {},
   "outputs": [
    {
     "data": {
      "text/plain": [
       "0.0"
      ]
     },
     "execution_count": 45,
     "metadata": {},
     "output_type": "execute_result"
    }
   ],
   "source": [
    "clf1.score(X_test, y_test)"
   ]
  },
  {
   "cell_type": "code",
   "execution_count": 46,
   "metadata": {},
   "outputs": [
    {
     "name": "stdout",
     "output_type": "stream",
     "text": [
      "0.2083333333333334\n"
     ]
    }
   ],
   "source": [
    "scores = []\n",
    "\n",
    "for _ in range(100):\n",
    "    X_train, X_test, y_train, y_test = train_test_split(X, y, test_size=0.3)\n",
    "    clf1 = LogisticRegression()\n",
    "    clf1.fit(X_train, y_train)\n",
    "    score = clf1.score(X_test, y_test)\n",
    "    scores.append(score)\n",
    "    \n",
    "    \n",
    "print(sum(scores) / 100)    "
   ]
  },
  {
   "cell_type": "code",
   "execution_count": 48,
   "metadata": {},
   "outputs": [
    {
     "name": "stdout",
     "output_type": "stream",
     "text": [
      "0.08166666666666669\n"
     ]
    }
   ],
   "source": [
    "scores = []\n",
    "\n",
    "for _ in range(100):\n",
    "    X_train, X_test, y_train, y_test = train_test_split(X, y, test_size=0.3)\n",
    "    clf1 = SVC()\n",
    "    clf1.fit(X_train, y_train)\n",
    "    score = clf1.score(X_test, y_test)\n",
    "    scores.append(score)\n",
    "    \n",
    "    \n",
    "print(sum(scores) / 100)    "
   ]
  },
  {
   "cell_type": "code",
   "execution_count": null,
   "metadata": {},
   "outputs": [],
   "source": []
  },
  {
   "cell_type": "code",
   "execution_count": null,
   "metadata": {},
   "outputs": [],
   "source": []
  },
  {
   "cell_type": "code",
   "execution_count": null,
   "metadata": {},
   "outputs": [],
   "source": []
  },
  {
   "cell_type": "code",
   "execution_count": null,
   "metadata": {},
   "outputs": [],
   "source": []
  },
  {
   "cell_type": "code",
   "execution_count": null,
   "metadata": {},
   "outputs": [],
   "source": []
  },
  {
   "cell_type": "code",
   "execution_count": null,
   "metadata": {},
   "outputs": [],
   "source": []
  },
  {
   "cell_type": "code",
   "execution_count": null,
   "metadata": {},
   "outputs": [],
   "source": []
  }
 ],
 "metadata": {
  "kernelspec": {
   "display_name": "Python 3",
   "language": "python",
   "name": "python3"
  },
  "language_info": {
   "codemirror_mode": {
    "name": "ipython",
    "version": 3
   },
   "file_extension": ".py",
   "mimetype": "text/x-python",
   "name": "python",
   "nbconvert_exporter": "python",
   "pygments_lexer": "ipython3",
   "version": "3.7.6"
  }
 },
 "nbformat": 4,
 "nbformat_minor": 4
}
