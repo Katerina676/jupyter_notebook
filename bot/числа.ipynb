{
 "cells": [
  {
   "cell_type": "code",
   "execution_count": 2,
   "metadata": {},
   "outputs": [
    {
     "name": "stdout",
     "output_type": "stream",
     "text": [
      "Загадай число от 1 до 100 ....\n",
      "Загадал?\n",
      "Тогда поехали\n",
      "\n",
      "Если я угадаю напиши \"=\",\n",
      "если твое число меньше, то введи \"<\",\n",
      "а если больше, то \">\".\n",
      "И нажми на Enter.\n",
      "\n",
      "Это 50?>\n",
      "Это 75?<\n",
      "Это 62?>\n",
      "Это 68?>\n",
      "Это 71?<\n",
      "Это 69?=\n",
      "Ура!Я отгадала\n",
      "Потребовалось шагов = 6\n"
     ]
    }
   ],
   "source": [
    "a = 1\n",
    "b = 100\n",
    "print(f'Загадай число от {a} до {b} ....')\n",
    "\n",
    "import time\n",
    "time.sleep(1)\n",
    "print('Загадал?')\n",
    "time.sleep(1)\n",
    "print('Тогда поехали')\n",
    "print()\n",
    "time.sleep(1)\n",
    "rules = '''Если я угадаю напиши \"=\",\n",
    "если твое число меньше, то введи \"<\",\n",
    "а если больше, то \">\".\n",
    "И нажми на Enter.\n",
    "'''\n",
    "print(rules)\n",
    "time.sleep(1)\n",
    "\n",
    "\n",
    "steps=0\n",
    "\n",
    "\n",
    "while True:\n",
    "    if a > b:\n",
    "        print('Произошел конфуз..')\n",
    "        print('Попробуй заново')\n",
    "        break\n",
    "    if a == b:\n",
    "        print(f'Все понятно ,ответ = {a}')\n",
    "        print(f'Потребовалось шагов = {steps}')\n",
    "        break\n",
    "        \n",
    "    steps += 1\n",
    "    \n",
    "    number = (a+b) // 2\n",
    "    answer = input(f'Это {number}?')\n",
    "    \n",
    "    \n",
    "    if answer == '=':\n",
    "        print('Ура!Я отгадала')\n",
    "        print(f'Потребовалось шагов = {steps}')\n",
    "        break\n",
    "        \n",
    "    elif answer == '<':\n",
    "        b = number - 1\n",
    "    elif answer == '>':\n",
    "        a = number + 1\n",
    "    else:\n",
    "        print(rules)\n",
    "        steps -=1\n"
   ]
  },
  {
   "cell_type": "code",
   "execution_count": null,
   "metadata": {},
   "outputs": [],
   "source": []
  },
  {
   "cell_type": "code",
   "execution_count": null,
   "metadata": {},
   "outputs": [],
   "source": []
  },
  {
   "cell_type": "code",
   "execution_count": null,
   "metadata": {},
   "outputs": [],
   "source": []
  },
  {
   "cell_type": "code",
   "execution_count": null,
   "metadata": {},
   "outputs": [],
   "source": []
  },
  {
   "cell_type": "code",
   "execution_count": null,
   "metadata": {},
   "outputs": [],
   "source": []
  },
  {
   "cell_type": "code",
   "execution_count": null,
   "metadata": {},
   "outputs": [],
   "source": []
  }
 ],
 "metadata": {
  "kernelspec": {
   "display_name": "Python 3",
   "language": "python",
   "name": "python3"
  },
  "language_info": {
   "codemirror_mode": {
    "name": "ipython",
    "version": 3
   },
   "file_extension": ".py",
   "mimetype": "text/x-python",
   "name": "python",
   "nbconvert_exporter": "python",
   "pygments_lexer": "ipython3",
   "version": "3.7.6"
  }
 },
 "nbformat": 4,
 "nbformat_minor": 4
}
