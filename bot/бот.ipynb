{
 "cells": [
  {
   "cell_type": "code",
   "execution_count": 1,
   "metadata": {},
   "outputs": [],
   "source": [
    "BOT_CONFIG = {\n",
    "    'intents':{\n",
    "        'hello':{\n",
    "            'examples':['Привет', 'Добрый день!', 'Здравствуйте', 'Хеллоу'],\n",
    "            'responses':['Приветик', 'Здароу']\n",
    "        },\n",
    "        'goodbye':{\n",
    "            'examples':['Пока', 'До свидания', 'Всего доброго', 'Гудбай'],\n",
    "            'responses':['Покеда', 'Счастливо']\n",
    "        },\n",
    "        'thanks':{\n",
    "            'examples':['Спасибо', 'Сенкс', 'Спасибо большое', 'Благодарю'],\n",
    "            'responses':['Спасибки', 'thks']\n",
    "        },\n",
    "        'whatcanyoudo':{\n",
    "            'examples':['Что ты умеешь', 'Расскажи что можешь сделать'],\n",
    "            'responses':['Пиши мне', 'Просто живу']\n",
    "        },\n",
    "        'name':{\n",
    "            'examples':['Как твое имя', 'Как тебя зовут'],\n",
    "            'responses':['Бот', 'Меня зовут Бот']\n",
    "        },\n",
    "        'weather':{\n",
    "            'examples':['Как погода?', 'Как погода в Москве?'],\n",
    "            'responses':['Солнечно', 'Ясно']\n",
    "        }    \n",
    "},\n",
    "    'failure_phrases':[\n",
    "        'Я не знаю что ответить',\n",
    "        'Не поняла',\n",
    "        'Простите,еще раз'\n",
    "         \n",
    "    ]\n",
    "}"
   ]
  },
  {
   "cell_type": "code",
   "execution_count": 6,
   "metadata": {},
   "outputs": [],
   "source": [
    "import random "
   ]
  },
  {
   "cell_type": "code",
   "execution_count": 20,
   "metadata": {},
   "outputs": [
    {
     "name": "stdout",
     "output_type": "stream",
     "text": [
      "hello\n",
      "{'examples': ['Привет', 'Добрый день!', 'Здравствуйте', 'Хеллоу'], 'responses': ['Приветик', 'Здароу']}\n",
      "goodbye\n",
      "{'examples': ['Пока', 'До свидания', 'Всего доброго', 'Гудбай'], 'responses': ['Покеда', 'Счастливо']}\n",
      "thanks\n",
      "{'examples': ['Спасибо', 'Сенкс', 'Спасибо большое', 'Благодарю'], 'responses': ['Спасибки', 'thks']}\n",
      "whatcanyoudo\n",
      "{'examples': ['Что ты умеешь', 'Расскажи что можешь сделать'], 'responses': ['Пиши мне', 'Просто живу']}\n",
      "name\n",
      "{'examples': ['Как твое имя', 'Как тебя зовут'], 'responses': ['Бот', 'Меня зовут Бот']}\n",
      "weather\n",
      "{'examples': ['Как погода?', 'Как погода в Москве?'], 'responses': ['Солнечно', 'Ясно']}\n"
     ]
    }
   ],
   "source": [
    "intents = BOT_CONFIG['intents']\n",
    "for intent, value in intents.items():\n",
    "    print(intent)\n",
    "    print(value)"
   ]
  },
  {
   "cell_type": "code",
   "execution_count": 22,
   "metadata": {},
   "outputs": [
    {
     "name": "stdout",
     "output_type": "stream",
     "text": [
      "hello\n",
      "goodbye\n",
      "thanks\n",
      "whatcanyoudo\n",
      "name\n",
      "weather\n",
      "weather Как погода?\n",
      "weather Как погода в Москве?\n"
     ]
    }
   ],
   "source": [
    "for intent, value in intents.items():\n",
    "    print(intent)\n",
    "for example in value['examples']:\n",
    "    print(intent, example)"
   ]
  },
  {
   "cell_type": "code",
   "execution_count": 43,
   "metadata": {},
   "outputs": [],
   "source": [
    "from nltk.metrics.distance import edit_distance\n",
    "\n",
    "\n",
    "\n",
    "\n",
    "def get_intent(text):\n",
    "    intents = BOT_CONFIG['intents']\n",
    "    for intent, value in intents.items():\n",
    "        for example in value['examples']:\n",
    "            dist = edit_distance(text.lower(), example.lower())\n",
    "            l = len(example)\n",
    "            similarity = 1 - dist/l\n",
    "            if similarity > 0.6:\n",
    "                return intent\n",
    "    "
   ]
  },
  {
   "cell_type": "code",
   "execution_count": 14,
   "metadata": {},
   "outputs": [
    {
     "data": {
      "text/plain": [
       "'Приветик'"
      ]
     },
     "execution_count": 14,
     "metadata": {},
     "output_type": "execute_result"
    }
   ],
   "source": [
    "\n",
    "def get_response_by_intent(intent):\n",
    "    responses = BOT_CONFIG['intents'][intent]['responses']\n",
    "    return random.choice(responses)\n",
    "\n",
    "\n",
    "get_response_by_intent('hello')"
   ]
  },
  {
   "cell_type": "code",
   "execution_count": 15,
   "metadata": {},
   "outputs": [
    {
     "data": {
      "text/plain": [
       "'Простите,еще раз'"
      ]
     },
     "execution_count": 15,
     "metadata": {},
     "output_type": "execute_result"
    }
   ],
   "source": [
    "def get_failure_phrase():\n",
    "    phrases = BOT_CONFIG['failure_phrases']\n",
    "    return random.choice(phrases)\n",
    "\n",
    "get_failure_phrase()"
   ]
  },
  {
   "cell_type": "code",
   "execution_count": 16,
   "metadata": {},
   "outputs": [],
   "source": [
    "def generate_answer(text):\n",
    "    #NLU\n",
    "    intent = get_intent(text)\n",
    "    \n",
    "    #Make answer\n",
    "    #by script\n",
    "    \n",
    "    if intent:\n",
    "        response = get_response_by_intent(intent)\n",
    "        return response\n",
    "    \n",
    "    #use generative model\n",
    "    #TODO\n",
    "    \n",
    "    #use stub\n",
    "    \n",
    "    failure_phrase = get_failure_phrase()\n",
    "    return failure_phrase"
   ]
  },
  {
   "cell_type": "code",
   "execution_count": null,
   "metadata": {},
   "outputs": [
    {
     "name": "stdout",
     "output_type": "stream",
     "text": [
      "Введите запрос: Привет\n",
      "Здароу\n",
      "Введите запрос: привет\n",
      "Здароу\n",
      "Введите запрос: как погода\n",
      "Ясно\n"
     ]
    }
   ],
   "source": [
    "while True:\n",
    "    text = input('Введите запрос: ')\n",
    "    answer = generate_answer(text)\n",
    "    print(answer)"
   ]
  },
  {
   "cell_type": "code",
   "execution_count": 33,
   "metadata": {},
   "outputs": [
    {
     "data": {
      "text/plain": [
       "'gghgyggygy'"
      ]
     },
     "execution_count": 33,
     "metadata": {},
     "output_type": "execute_result"
    }
   ],
   "source": [
    "'gGhGyGgyGy'.lower()"
   ]
  },
  {
   "cell_type": "code",
   "execution_count": null,
   "metadata": {},
   "outputs": [],
   "source": []
  },
  {
   "cell_type": "code",
   "execution_count": null,
   "metadata": {},
   "outputs": [],
   "source": []
  },
  {
   "cell_type": "code",
   "execution_count": null,
   "metadata": {},
   "outputs": [],
   "source": []
  },
  {
   "cell_type": "code",
   "execution_count": null,
   "metadata": {},
   "outputs": [],
   "source": []
  },
  {
   "cell_type": "code",
   "execution_count": null,
   "metadata": {},
   "outputs": [],
   "source": []
  },
  {
   "cell_type": "code",
   "execution_count": null,
   "metadata": {},
   "outputs": [],
   "source": []
  }
 ],
 "metadata": {
  "kernelspec": {
   "display_name": "Python 3",
   "language": "python",
   "name": "python3"
  },
  "language_info": {
   "codemirror_mode": {
    "name": "ipython",
    "version": 3
   },
   "file_extension": ".py",
   "mimetype": "text/x-python",
   "name": "python",
   "nbconvert_exporter": "python",
   "pygments_lexer": "ipython3",
   "version": "3.7.6"
  }
 },
 "nbformat": 4,
 "nbformat_minor": 4
}
